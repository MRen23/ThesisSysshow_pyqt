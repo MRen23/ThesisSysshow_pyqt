{
 "cells": [
  {
   "cell_type": "code",
   "execution_count": 1,
   "metadata": {},
   "outputs": [],
   "source": [
    "#本脚本主要实现内容为基于tripadvisor澳门地区酒店数据图像识别内容之后文本内容的数据预处理部分"
   ]
  },
  {
   "cell_type": "code",
   "execution_count": 83,
   "metadata": {},
   "outputs": [],
   "source": [
    "#　导入必要的包\n",
    "import csv\n",
    "import numpy as np\n",
    "from scipy.cluster.hierarchy import dendrogram, linkage, fcluster,cut_tree,cophenet,inconsistent\n",
    "import scipy.cluster.hierarchy as sch\n",
    "from matplotlib import pyplot as plt\n",
    "from matplotlib.pyplot import xticks\n",
    "import pandas as pd\n",
    "from scipy.spatial import distance\n",
    "from itertools import groupby #itertool还包含有其他很多函数，比如将多个list联合起来\n",
    "import json\n",
    "from sklearn.metrics.pairwise import euclidean_distances\n",
    "import re\n",
    "from orangecontrib.associate.fpgrowth import * \n",
    "from collections import Counter\n",
    "from gensim.models import KeyedVectors"
   ]
  },
  {
   "cell_type": "code",
   "execution_count": 84,
   "metadata": {},
   "outputs": [],
   "source": [
    "'''\n",
    "函数名：读数据\n",
    "输入：json数据的路径\n",
    "输出：每张图片用list数据存储的label集，每个图片label的评分集，以及每个图片的url\n",
    "描述：该函数实现从文件中读取json数据文件，并分别解析出label集，评分集，以及url集\n",
    "'''\n",
    "def loadjson_label(path):\n",
    "    with open (path,'rb') as json_data:\n",
    "        data = json.load(json_data)\n",
    "    labels = []\n",
    "    \n",
    "    #打印所有的labels\n",
    "    for i in data:\n",
    "        labels.append(i[:-1])\n",
    "    classes = []\n",
    "    for i in labels:\n",
    "        temp = []\n",
    "        for j in i:\n",
    "            c = list(j[0].values())\n",
    "            temp.append(c[0])\n",
    "        classes.append(temp)\n",
    "    \n",
    "    # 打印所有的score\n",
    "    score = []\n",
    "    for i in labels:\n",
    "        temp = []\n",
    "        for j in i:\n",
    "            c = list(j[1].values())\n",
    "            temp.append(c[0])\n",
    "        score.append(temp)\n",
    "\n",
    "    \n",
    "    #打印所有的urls\n",
    "    urls = []\n",
    "    for i in data:\n",
    "        urls.append(list(i[-1].values())[0])    \n",
    "    return classes, score, urls"
   ]
  },
  {
   "cell_type": "code",
   "execution_count": 85,
   "metadata": {},
   "outputs": [],
   "source": [
    "# 读数据face\n",
    "def loadjson_face(path):\n",
    "    with open (path,'rb') as json_data:\n",
    "        data = json.load(json_data)\n",
    "    data_with_face = []\n",
    "    for i in data:\n",
    "        if len(i)!=1:\n",
    "            data_with_face.append(i)\n",
    "    rate = len(data_with_face)/len(data)\n",
    "#     print (\"识别出来脸总共：\",len(data_with_face))\n",
    "#     print (\"总数据：\",len(data))\n",
    "    return data,data_with_face,rate"
   ]
  },
  {
   "cell_type": "code",
   "execution_count": 86,
   "metadata": {},
   "outputs": [],
   "source": [
    "# 读数据color\n",
    "def loadjson_color(path):\n",
    "    with open (path,'rb') as json_data:\n",
    "        data = json.load(json_data)\n",
    "    labels = []\n",
    "    # #打印所有的了labels\n",
    "    for i in data:\n",
    "        labels.append(i[:-1])\n",
    "    temp = []\n",
    "    for i in labels:\n",
    "        temp_t = []\n",
    "        for j in i:\n",
    "            temp_t.append(j[:4])\n",
    "        temp.append(temp_t)\n",
    "\n",
    "    urls = []\n",
    "    for i in data:\n",
    "        urls.append(i[-1])\n",
    "\n",
    "    datasets = []\n",
    "    for i in range(0,len(temp)):\n",
    "        datasets.append(list(temp[i])+list(urls[i].values()))\n",
    "        \n",
    "    return datasets"
   ]
  },
  {
   "cell_type": "code",
   "execution_count": 87,
   "metadata": {},
   "outputs": [
    {
     "name": "stdout",
     "output_type": "stream",
     "text": [
      "====================================官方数据集label识别结果=======================================\n",
      "五星级酒店图片总共: 1221\n",
      "四星级酒店图片总共: 849\n",
      "三星级酒店图片总共: 222\n",
      "二星级酒店图片总共: 105\n",
      "总数据量： 2397\n",
      "=====================================官方数据集color识别结果========================================\n",
      "五星级酒店可识别颜色图片总数： 1221\n",
      "四星级酒店可识别颜色图片总数： 849\n",
      "三星级酒店可识别颜色图片总数： 222\n",
      "二星级酒店可识别颜色图片总数： 105\n",
      "总数据量： 2397\n",
      "======================================官方数据集face识别结果=======================================\n",
      "五星级酒店识别出来脸的图片： 26\n",
      "四星级酒店识别出来脸的图片： 11\n",
      "三星级酒店识别出来脸的图片： 0\n",
      "二星级酒店识别出来脸的图片： 0\n",
      "总共识别出来脸的图片数据量： 37\n"
     ]
    }
   ],
   "source": [
    "# 读label\n",
    "print('====================================官方数据集label识别结果=======================================')\n",
    "official_labelset_five,official_score_five, official_urls_five = loadjson_label('dataset\\official\\google\\label\\\\five.json')\n",
    "print('五星级酒店图片总共:',len(official_labelset_five))\n",
    "official_labelset_four,official_score_four, official_urls_four = loadjson_label('dataset\\official\\google\\label\\\\four.json')\n",
    "print ('四星级酒店图片总共:',len(official_labelset_four))\n",
    "official_labelset_three,official_score_three, official_urls_three = loadjson_label('dataset\\official\\google\\label\\\\three.json')\n",
    "print ('三星级酒店图片总共:',len(official_labelset_three))\n",
    "official_labelset_two,official_score_two, official_urls_two = loadjson_label('dataset\\official\\google\\label\\\\two.json')\n",
    "print ('二星级酒店图片总共:',len(official_labelset_two))\n",
    "print('总数据量：',len(official_labelset_five)+len(official_labelset_four)+len(official_labelset_three)+len(official_labelset_two))\n",
    "\n",
    "# 读color\n",
    "print('=====================================官方数据集color识别结果========================================')\n",
    "official_colorset_five = loadjson_color('dataset\\official\\google\\color\\\\five.json')\n",
    "print('五星级酒店可识别颜色图片总数：',len(official_colorset_five))\n",
    "official_colorset_four = loadjson_color('dataset\\official\\google\\color\\\\four.json')\n",
    "print('四星级酒店可识别颜色图片总数：',len(official_colorset_four))\n",
    "official_colorset_three= loadjson_color('dataset\\official\\google\\color\\\\three.json')\n",
    "print('三星级酒店可识别颜色图片总数：',len(official_colorset_three))\n",
    "official_colorset_two= loadjson_color('dataset\\official\\google\\color\\\\two.json')\n",
    "print('二星级酒店可识别颜色图片总数：',len(official_colorset_two))\n",
    "print ('总数据量：',len(official_colorset_five)+len(official_colorset_four)+len(official_colorset_three)+len(official_colorset_two))\n",
    "\n",
    "# 读face\n",
    "print ('======================================官方数据集face识别结果=======================================')\n",
    "#其中faceset_five表示五星级酒店总数据，face_five表示识别出来脸的图片集，rate_five表示评分\n",
    "official_faceset_five,official_face_five,official_rate_five = loadjson_face('dataset\\official\\google\\\\face\\\\five.json')\n",
    "print('五星级酒店识别出来脸的图片：',len(official_face_five))\n",
    "official_faceset_four,official_face_four,official_rate_four = loadjson_face('dataset\\official\\google\\\\face\\\\four.json')\n",
    "print('四星级酒店识别出来脸的图片：',len(official_face_four))\n",
    "official_faceset_three,official_face_three,official_rate_three = loadjson_face('dataset\\official\\google\\\\face\\\\three.json')\n",
    "print('三星级酒店识别出来脸的图片：',len(official_face_three))\n",
    "official_faceset_two,official_face_two,official_rate_two = loadjson_face('dataset\\official\\google\\\\face\\\\two.json')\n",
    "print('二星级酒店识别出来脸的图片：',len(official_face_two))\n",
    "print ('总共识别出来脸的图片数据量：',len(official_face_five)+len(official_face_four)+len(official_face_three)+len(official_face_two))"
   ]
  },
  {
   "cell_type": "code",
   "execution_count": 88,
   "metadata": {},
   "outputs": [
    {
     "name": "stdout",
     "output_type": "stream",
     "text": [
      "====================================游客数据集label识别结果=======================================\n",
      "五星级酒店图片总共: 32023\n",
      "四星级酒店图片总共: 15249\n",
      "三星级酒店图片总共: 3627\n",
      "二星级酒店图片总共: 517\n",
      "总数据量： 51416\n",
      "=====================================游客数据集color识别结果========================================\n",
      "五星级酒店可识别颜色图片总数： 32023\n",
      "四星级酒店可识别颜色图片总数： 15249\n",
      "三星级酒店可识别颜色图片总数： 3627\n",
      "二星级酒店可识别颜色图片总数： 517\n",
      "总数据量： 51416\n",
      "======================================游客数据集face识别结果=======================================\n",
      "五星级酒店识别出来脸的图片： 734\n",
      "四星级酒店识别出来脸的图片： 309\n",
      "三星级酒店识别出来脸的图片： 37\n",
      "二星级酒店识别出来脸的图片： 6\n",
      "总共识别出来脸的图片数据量： 1086\n"
     ]
    }
   ],
   "source": [
    "# 读label\n",
    "print('====================================游客数据集label识别结果=======================================')\n",
    "traveler_labelset_five,traveler_score_five, traveler_urls_five = loadjson_label('dataset\\\\travelers\\google\\label\\\\five.json')\n",
    "print('五星级酒店图片总共:',len(traveler_labelset_five))\n",
    "traveler_labelset_four,traveler_score_four, traveler_urls_four = loadjson_label('dataset\\\\travelers\\google\\label\\\\four.json')\n",
    "print ('四星级酒店图片总共:',len(traveler_labelset_four))\n",
    "traveler_labelset_three,traveler_score_three, traveler_urls_three = loadjson_label('dataset\\\\travelers\\google\\label\\\\three.json')\n",
    "print ('三星级酒店图片总共:',len(traveler_labelset_three))\n",
    "traveler_labelset_two,traveler_score_two, traveler_urls_two = loadjson_label('dataset\\\\travelers\\google\\label\\\\two.json')\n",
    "print ('二星级酒店图片总共:',len(traveler_labelset_two))\n",
    "print('总数据量：',len(traveler_labelset_five)+len(traveler_labelset_four)+len(traveler_labelset_three)+len(traveler_labelset_two))\n",
    "\n",
    "# 读color\n",
    "print('=====================================游客数据集color识别结果========================================')\n",
    "traveler_colorset_five = loadjson_color('dataset\\\\travelers\\google\\color\\\\five.json')\n",
    "print('五星级酒店可识别颜色图片总数：',len(traveler_colorset_five))\n",
    "traveler_colorset_four = loadjson_color('dataset\\\\travelers\\google\\color\\\\four.json')\n",
    "print('四星级酒店可识别颜色图片总数：',len(traveler_colorset_four))\n",
    "traveler_colorset_three= loadjson_color('dataset\\\\travelers\\google\\color\\\\three.json')\n",
    "print('三星级酒店可识别颜色图片总数：',len(traveler_colorset_three))\n",
    "traveler_colorset_two= loadjson_color('dataset\\\\travelers\\google\\color\\\\two.json')\n",
    "print('二星级酒店可识别颜色图片总数：',len(traveler_colorset_two))\n",
    "print ('总数据量：',len(traveler_colorset_five)+len(traveler_colorset_four)+len(traveler_colorset_three)+len(traveler_colorset_two))\n",
    "\n",
    "# 读face\n",
    "print ('======================================游客数据集face识别结果=======================================')\n",
    "#其中faceset_five表示五星级酒店总数据，face_five表示识别出来脸的图片集，rate_five表示评分\n",
    "traveler_faceset_five,traveler_face_five,traveler_rate_five = loadjson_face('dataset\\\\travelers\\google\\\\face\\\\five.json')\n",
    "print('五星级酒店识别出来脸的图片：',len(traveler_face_five))\n",
    "traveler_faceset_four,traveler_face_four,traveler_rate_four = loadjson_face('dataset\\\\travelers\\google\\\\face\\\\four.json')\n",
    "print('四星级酒店识别出来脸的图片：',len(traveler_face_four))\n",
    "traveler_faceset_three,traveler_face_three,traveler_rate_three = loadjson_face('dataset\\\\travelers\\google\\\\face\\\\three.json')\n",
    "print('三星级酒店识别出来脸的图片：',len(traveler_face_three))\n",
    "traveler_faceset_two,traveler_face_two,traveler_rate_two = loadjson_face('dataset\\\\travelers\\google\\\\face\\\\two.json')\n",
    "print('二星级酒店识别出来脸的图片：',len(traveler_face_two))\n",
    "print ('总共识别出来脸的图片数据量：',len(traveler_face_five)+len(traveler_face_four)+len(traveler_face_three)+len(traveler_face_two))"
   ]
  },
  {
   "cell_type": "code",
   "execution_count": 89,
   "metadata": {},
   "outputs": [],
   "source": [
    "'''\n",
    "函数名：数据预处理\n",
    "输入：label集，url\n",
    "输出：经过处理的label集，并将url并进去\n",
    "描述：通过该函数将获取到的数据集进行预处理。1.去掉空格，2.去掉括号，3.将url添加上。\n",
    "'''\n",
    "def preprocessing(labelset,urls):\n",
    "    i=0\n",
    "    for labels in labelset:\n",
    "        labels.append(urls[i])\n",
    "        i+=1\n",
    "    sets_ini = []\n",
    "    for i in labelset:\n",
    "        inter_sets = []\n",
    "        for j in i:\n",
    "#             j = j.replace(' ','')                          # 去掉空格\n",
    "            j = j.split(' ')[-1] \n",
    "            inter_sets.append(re.sub('\\((.*?\\))', '', j))  # 去掉括号\n",
    "        sets_ini.append(inter_sets)\n",
    "    return sets_ini"
   ]
  },
  {
   "cell_type": "code",
   "execution_count": 53,
   "metadata": {},
   "outputs": [
    {
     "name": "stdout",
     "output_type": "stream",
     "text": [
      "=======================================官方数据集预处理===============================\n",
      "五星级酒店官方图片数据集个数 =  1221\n",
      "四星级酒店官方图片数据集个数 =  849\n",
      "三星级酒店官方图片数据集个数 =  222\n",
      "二星级酒店官方图片数据集个数 =  105\n",
      "========================================游客数据集预处理===============================\n",
      "五星级酒店游客图片数据集个数 =  32023\n",
      "四星级酒店游客图片数据集个数 =  15249\n",
      "三星级酒店游客图片数据集个数 =  3627\n",
      "二星级酒店游客图片数据集个数 =  517\n"
     ]
    }
   ],
   "source": [
    "#　对数据集进行预处理\n",
    "print ('=======================================官方数据集预处理===============================')\n",
    "official_five_ini = preprocessing(official_labelset_five,official_urls_five)\n",
    "print (\"五星级酒店官方图片数据集个数 = \", len (official_five_ini))\n",
    "official_four_ini = preprocessing(official_labelset_four,official_urls_four)\n",
    "print (\"四星级酒店官方图片数据集个数 = \", len (official_four_ini))\n",
    "official_three_ini = preprocessing(official_labelset_three,official_urls_three)\n",
    "print (\"三星级酒店官方图片数据集个数 = \", len (official_three_ini))\n",
    "official_two_ini = preprocessing(official_labelset_two,official_urls_two)\n",
    "print (\"二星级酒店官方图片数据集个数 = \", len (official_two_ini))\n",
    "\n",
    "print('========================================游客数据集预处理===============================')\n",
    "traveler_five_ini = preprocessing(traveler_labelset_five,traveler_urls_five)\n",
    "print (\"五星级酒店游客图片数据集个数 = \", len (traveler_five_ini))\n",
    "traveler_four_ini = preprocessing(traveler_labelset_four,traveler_urls_four)\n",
    "print (\"四星级酒店游客图片数据集个数 = \", len (traveler_four_ini))\n",
    "traveler_three_ini = preprocessing(traveler_labelset_three,traveler_urls_three)\n",
    "print (\"三星级酒店游客图片数据集个数 = \", len (traveler_three_ini))\n",
    "traveler_two_ini = preprocessing(traveler_labelset_two,traveler_urls_two)\n",
    "print (\"二星级酒店游客图片数据集个数 = \", len (traveler_two_ini))"
   ]
  },
  {
   "cell_type": "code",
   "execution_count": 54,
   "metadata": {},
   "outputs": [],
   "source": [
    "# 取出所有的label\n",
    "'''\n",
    "函数名：取出所有label并进行统计\n",
    "输入：每个图片的label list\n",
    "输出：每个数据集中的label集合，数据集label统计并排序之后的结果\n",
    "描述：对之前的图片的label list中的label先取出来，然后进行统计每个label在整个数据集中出现的百分比\n",
    "'''\n",
    "def label_stat(sets_ini):\n",
    "    all_sets = [] # 存放c不带url的数据集\n",
    "    for i in sets_ini:\n",
    "        all_sets.append(i[:-1])\n",
    "    label_all = [] # 存放所有label\n",
    "    for i in all_sets:\n",
    "        for j in i:\n",
    "            label_all.append(j)           \n",
    "    #数据集长度定义\n",
    "    length = len(all_sets)\n",
    "    #数据集每个label计数\n",
    "    c = Counter(label_all)\n",
    "    stat_sets = []\n",
    "    for i in c.items():\n",
    "        stat_sets.append([i[0],round(i[1]/length,5)])\n",
    "    # 数据集label 频率排序    \n",
    "    n = len(stat_sets)\n",
    "    for i in range(n-1):\n",
    "        for j in range(n-i-1):\n",
    "            if stat_sets[j][1]<stat_sets[j+1][1]:\n",
    "                stat_sets[j],stat_sets[j+1] = stat_sets[j+1],stat_sets[j]\n",
    "    return label_all, stat_sets"
   ]
  },
  {
   "cell_type": "code",
   "execution_count": 55,
   "metadata": {},
   "outputs": [
    {
     "name": "stdout",
     "output_type": "stream",
     "text": [
      "===============================官方数据集label统计=======================================\n",
      "五星级酒店官方数据集label个数 =  9863\n",
      "四星级酒店官方数据集label个数 =  6952\n",
      "三星级酒店官方数据集label个数 =  1754\n",
      "二星级酒店官方数据集label个数 =  782\n",
      "==============================游客数据集label统计=======================================\n",
      "五星级酒店游客数据集label个数 =  251626\n",
      "四星级酒店游客数据集label个数 =  119876\n",
      "三星级酒店游客数据集label个数 =  28408\n",
      "二星级酒店游客数据集label个数 =  4067\n"
     ]
    }
   ],
   "source": [
    "#official_label_all_five表示五星级酒店出现的标签，official_stat_five表示五星级酒店每个词以及这个词出现的频率\n",
    "print('===============================官方数据集label统计=======================================')\n",
    "official_label_all_five, official_stat_five = label_stat(official_five_ini)\n",
    "print (\"五星级酒店官方数据集label个数 = \",len(official_label_all_five))\n",
    "official_label_all_four,official_stat_four = label_stat(official_four_ini)\n",
    "print (\"四星级酒店官方数据集label个数 = \",len(official_label_all_four))\n",
    "official_label_all_three,official_stat_three = label_stat(official_three_ini)\n",
    "print (\"三星级酒店官方数据集label个数 = \",len(official_label_all_three))\n",
    "official_label_all_two,official_stat_two = label_stat(official_two_ini)\n",
    "print (\"二星级酒店官方数据集label个数 = \",len(official_label_all_two))\n",
    "\n",
    "print('==============================游客数据集label统计=======================================')\n",
    "traveler_label_all_five, traveler_stat_five = label_stat(traveler_five_ini)\n",
    "print (\"五星级酒店游客数据集label个数 = \",len(traveler_label_all_five))\n",
    "traveler_label_all_four,traveler_stat_four = label_stat(traveler_four_ini)\n",
    "print (\"四星级酒店游客数据集label个数 = \",len(traveler_label_all_four))\n",
    "traveler_label_all_three,traveler_stat_three = label_stat(traveler_three_ini)\n",
    "print (\"三星级酒店游客数据集label个数 = \",len(traveler_label_all_three))\n",
    "traveler_label_all_two,traveler_stat_two = label_stat(traveler_two_ini)\n",
    "print (\"二星级酒店游客数据集label个数 = \",len(traveler_label_all_two))"
   ]
  },
  {
   "cell_type": "code",
   "execution_count": 58,
   "metadata": {},
   "outputs": [],
   "source": [
    "# word_embedding 从字典中查找对应词的向量。 \n",
    "'''\n",
    "embed_file_name: glove file path.\n",
    "word_set: test sets.\n",
    "'''\n",
    "def load_embedding_file(embed_file_name, word_set):\n",
    "    ''' loads embedding file and returns a dictionary (word -> embedding) for the words existing in the word_set '''\n",
    "    print(\"Loading GloVe\")\n",
    "    embeddings = {}\n",
    "    with open(embed_file_name, 'r',encoding='utf-8') as embed_file:\n",
    "        for line in embed_file:\n",
    "#             print ('line=',line)\n",
    "            content = line.strip().split(\" \")\n",
    "            word = content[0]\n",
    "#             print ('word=',word)\n",
    "            if word in word_set:\n",
    "                embedding = np.array(content[1:], dtype=np.float32)\n",
    "                embeddings[word] = embedding\n",
    "    print(\"Loaded GloVe\")\n",
    "#     print ('embeddings=',embeddings)\n",
    "    return embeddings"
   ]
  },
  {
   "cell_type": "code",
   "execution_count": 59,
   "metadata": {},
   "outputs": [
    {
     "name": "stdout",
     "output_type": "stream",
     "text": [
      "Loading GloVe\n",
      "Loaded GloVe\n",
      "81\n"
     ]
    }
   ],
   "source": [
    "path = \"E:\\Master\\Research\\HotelImageMaterial\\glove.840B.300d\\glove.840B.300d.txt\"  # word_embedding 路径\n",
    "res_emb = load_embedding_file(path,official_label_all_two)\n",
    "print (len(res_emb.keys()))\n",
    "# print (res_emb.keys())"
   ]
  },
  {
   "cell_type": "code",
   "execution_count": 60,
   "metadata": {},
   "outputs": [
    {
     "name": "stdout",
     "output_type": "stream",
     "text": [
      "{'arecales'}\n"
     ]
    }
   ],
   "source": [
    "print (official_label_all_two-res_emb.keys())"
   ]
  },
  {
   "cell_type": "code",
   "execution_count": 61,
   "metadata": {},
   "outputs": [],
   "source": [
    "# google news\n",
    "GOOGLENEWS_FILE_GLOVE = 'C:\\\\Users\\TF\\Desktop\\BunCode\\GoogleNews-vectors-negative300.bin'\n",
    "\n",
    "def word_embedding_to_vector(path,word_set):\n",
    "    embeddings = {}\n",
    "    embeddings_process=KeyedVectors.load_word2vec_format(GOOGLENEWS_FILE_GLOVE, binary=True)\n",
    "    for word in word_set:\n",
    "        if word in embeddings_process.vocab:\n",
    "            embeddings[word]=embeddings_process.word_vec(word)\n",
    "        else:\n",
    "            pass\n",
    "    return embeddings"
   ]
  },
  {
   "cell_type": "code",
   "execution_count": 62,
   "metadata": {},
   "outputs": [
    {
     "name": "stdout",
     "output_type": "stream",
     "text": [
      "81\n",
      "782\n"
     ]
    }
   ],
   "source": [
    "embedding_result = word_embedding_to_vector(GOOGLENEWS_FILE_GLOVE,official_label_all_two)\n",
    "print (len(embedding_result.keys()))\n",
    "# print (embedding_result)\n",
    "print (len(official_label_all_two))"
   ]
  },
  {
   "cell_type": "code",
   "execution_count": 63,
   "metadata": {},
   "outputs": [
    {
     "name": "stdout",
     "output_type": "stream",
     "text": [
      "{'arecales'}\n"
     ]
    }
   ],
   "source": [
    "print (official_label_all_two-embedding_result.keys())"
   ]
  },
  {
   "cell_type": "code",
   "execution_count": null,
   "metadata": {},
   "outputs": [],
   "source": []
  },
  {
   "cell_type": "code",
   "execution_count": null,
   "metadata": {},
   "outputs": [],
   "source": []
  },
  {
   "cell_type": "code",
   "execution_count": null,
   "metadata": {},
   "outputs": [],
   "source": []
  },
  {
   "cell_type": "code",
   "execution_count": null,
   "metadata": {},
   "outputs": [],
   "source": []
  },
  {
   "cell_type": "code",
   "execution_count": null,
   "metadata": {},
   "outputs": [],
   "source": []
  },
  {
   "cell_type": "code",
   "execution_count": null,
   "metadata": {},
   "outputs": [],
   "source": []
  },
  {
   "cell_type": "code",
   "execution_count": null,
   "metadata": {},
   "outputs": [],
   "source": []
  },
  {
   "cell_type": "code",
   "execution_count": null,
   "metadata": {},
   "outputs": [],
   "source": []
  },
  {
   "cell_type": "code",
   "execution_count": null,
   "metadata": {},
   "outputs": [],
   "source": []
  },
  {
   "cell_type": "code",
   "execution_count": null,
   "metadata": {},
   "outputs": [],
   "source": []
  },
  {
   "cell_type": "code",
   "execution_count": null,
   "metadata": {},
   "outputs": [],
   "source": []
  },
  {
   "cell_type": "code",
   "execution_count": null,
   "metadata": {},
   "outputs": [],
   "source": []
  },
  {
   "cell_type": "code",
   "execution_count": null,
   "metadata": {},
   "outputs": [],
   "source": []
  },
  {
   "cell_type": "code",
   "execution_count": null,
   "metadata": {},
   "outputs": [],
   "source": []
  },
  {
   "cell_type": "code",
   "execution_count": null,
   "metadata": {},
   "outputs": [],
   "source": []
  }
 ],
 "metadata": {
  "kernelspec": {
   "display_name": "Python 3",
   "language": "python",
   "name": "python3"
  },
  "language_info": {
   "codemirror_mode": {
    "name": "ipython",
    "version": 3
   },
   "file_extension": ".py",
   "mimetype": "text/x-python",
   "name": "python",
   "nbconvert_exporter": "python",
   "pygments_lexer": "ipython3",
   "version": "3.6.5"
  }
 },
 "nbformat": 4,
 "nbformat_minor": 2
}
