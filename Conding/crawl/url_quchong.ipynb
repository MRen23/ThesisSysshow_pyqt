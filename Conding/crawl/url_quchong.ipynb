{
 "cells": [
  {
   "cell_type": "code",
   "execution_count": 1,
   "metadata": {},
   "outputs": [],
   "source": [
    "import csv\n",
    "import numpy as np\n",
    "from scipy.cluster.hierarchy import dendrogram, linkage, fcluster,cut_tree,cophenet,inconsistent\n",
    "import scipy.cluster.hierarchy as sch\n",
    "from matplotlib import pyplot as plt\n",
    "from matplotlib.pyplot import xticks\n",
    "import pandas as pd\n",
    "from scipy.spatial import distance\n",
    "from itertools import groupby #itertool还包含有其他很多函数，比如将多个list联合起来\n",
    "import json\n",
    "from sklearn.metrics.pairwise import euclidean_distances\n",
    "import re\n",
    "from orangecontrib.associate.fpgrowth import * \n",
    "from collections import Counter\n",
    "from pyrgb import *"
   ]
  },
  {
   "cell_type": "code",
   "execution_count": 2,
   "metadata": {},
   "outputs": [],
   "source": [
    "# urls 去重\n",
    "'''\n",
    "输入：\n",
    "输出：\n",
    "'''\n",
    "def txtquchong(read_path,save_path):\n",
    "    with open(read_path,'r') as f:\n",
    "        data = f.readlines()\n",
    "    new = []\n",
    "    for i in data:\n",
    "        if i not in new:\n",
    "            new.append(i)\n",
    "    f.close()\n",
    "    \n",
    "    file = open(save_path,'w')\n",
    "    for i in new:\n",
    "        file.write(i)\n",
    "    file.close()"
   ]
  },
  {
   "cell_type": "code",
   "execution_count": 9,
   "metadata": {},
   "outputs": [],
   "source": [
    "txtquchong(r'E:\\西安石油大学研究生院\\研究生毕业文档\\数据集\\旅游者\\urls\\不同星级酒店url\\\\five.txt',r'E:\\西安石油大学研究生院\\研究生毕业文档\\数据集\\旅游者\\urls\\level_urls_new\\\\five.txt')\n",
    "txtquchong(r'E:\\西安石油大学研究生院\\研究生毕业文档\\数据集\\旅游者\\urls\\不同星级酒店url\\\\four.txt',r'E:\\西安石油大学研究生院\\研究生毕业文档\\数据集\\旅游者\\urls\\level_urls_new\\\\four.txt')\n",
    "txtquchong(r'E:\\西安石油大学研究生院\\研究生毕业文档\\数据集\\旅游者\\urls\\不同星级酒店url\\\\three.txt',r'E:\\西安石油大学研究生院\\研究生毕业文档\\数据集\\旅游者\\urls\\level_urls_new\\\\three.txt')\n",
    "txtquchong(r'E:\\西安石油大学研究生院\\研究生毕业文档\\数据集\\旅游者\\urls\\不同星级酒店url\\\\two.txt',r'E:\\西安石油大学研究生院\\研究生毕业文档\\数据集\\旅游者\\urls\\level_urls_new\\\\two.txt')"
   ]
  },
  {
   "cell_type": "code",
   "execution_count": null,
   "metadata": {},
   "outputs": [],
   "source": [
    "txtquchong('..\\data\\\\urls\\\\five.txt','..\\\\data\\\\urls_new\\\\five.txt')\n",
    "txtquchong('..\\data\\\\urls\\\\four.txt','..\\\\data\\\\urls_new\\\\four.txt')\n",
    "txtquchong('..\\data\\\\urls\\\\three.txt','..\\\\data\\\\urls_new\\\\three.txt')\n",
    "txtquchong('..\\data\\\\urls\\\\two.txt','..\\\\data\\\\urls_new\\\\two.txt')"
   ]
  }
 ],
 "metadata": {
  "kernelspec": {
   "display_name": "Python 3",
   "language": "python",
   "name": "python3"
  },
  "language_info": {
   "codemirror_mode": {
    "name": "ipython",
    "version": 3
   },
   "file_extension": ".py",
   "mimetype": "text/x-python",
   "name": "python",
   "nbconvert_exporter": "python",
   "pygments_lexer": "ipython3",
   "version": "3.6.5"
  }
 },
 "nbformat": 4,
 "nbformat_minor": 2
}
