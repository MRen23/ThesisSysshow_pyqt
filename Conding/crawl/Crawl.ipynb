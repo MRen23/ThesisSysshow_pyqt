{
 "cells": [
  {
   "cell_type": "code",
   "execution_count": 152,
   "metadata": {},
   "outputs": [],
   "source": [
    "#爬取hotel ICON 酒店的官方，专业和旅游者图片\n",
    "import requests\n",
    "import re\n",
    "import time \n",
    "from fake_useragent import UserAgent\n",
    "def UA():\n",
    "    ua = UserAgent()\n",
    "    return ua.random\n",
    "\n",
    "headers={\n",
    "'Accept': '*/*',\n",
    "'Accept-Encoding': 'gzip, deflate, br',\n",
    "'Accept-Language': 'zh-CN,zh;q=0.9',\n",
    "'Connection': 'keep-alive',\n",
    "'Cookie': 'TASSK=enc%3AAJlNwGwe7EFvk83vbgQQJNtaJjJ2DmfwIsnXU9gRMj0k0clg%2B%2FbMXayfkzUPKB6IDm6gYV2fZsIy0y5hU1DMhijmqMKBIlpf9XrZrOnd%2FRqeEwMywU%2FgjLETX8Ya0P6zTA%3D%3D; TATravelInfo=V2*AY.2018*AM.8*AD.12*DY.2018*DM.8*DD.13*A.2*MG.-1*HP.2*FL.3*DSM.1533257359617*RS.1; TAUnique=%1%enc%3AxPLXK5CpiZ51m4QCONDqtzEGI%2BGudUmOq3FNKP8KUG0%3D; _ga=GA1.2.45220044.1533257359; __gads=ID=3d21623eeccae555:T=1533257362:S=ALNI_MYiIEkQDkfzibb-KifuK7mn-izugA; TART=%1%enc%3AbiYu%2F2hIUs5RLJO8DdKc20zwWEx0KZJ07f84tKNQ33NredeWyLbIhEKxMcAVx5iYvtAtghn5e04%3D; CM=%1%HanaPersist%2C%2C-1%7CPremiumMobSess%2C%2C-1%7Ct4b-pc%2C%2C-1%7CSPHRSess%2C%2C-1%7CHanaSession%2C%2C-1%7CRestAds%2FRPers%2C%2C-1%7CRCPers%2C%2C-1%7CWShadeSeen%2C%2C-1%7CFtrPers%2C%2C-1%7CTheForkMCCPers%2C%2C-1%7CHomeASess%2C1%2C-1%7CPremiumSURPers%2C%2C-1%7CPremiumMCSess%2C%2C-1%7CRestPartSess%2C%2C-1%7CRestPremRSess%2C%2C-1%7CCpmPopunder_1%2C%2C-1%7CCCSess%2C%2C-1%7CCpmPopunder_2%2C1%2C-1%7CPremRetPers%2C%2C-1%7CViatorMCPers%2C%2C-1%7Csesssticker%2C%2C-1%7Ct4b-sc%2C%2C-1%7CRestAdsPers%2C%2C-1%7CMC_IB_UPSELL_IB_LOGOS2%2C%2C-1%7Cb2bmcpers%2C%2C-1%7CPremMCBtmSess%2C%2C-1%7CPremiumSURSess%2C%2C-1%7CMC_IB_UPSELL_IB_LOGOS%2C%2C-1%7CLaFourchette+Banners%2C%2C-1%7Csess_rev%2C%2C-1%7Csessamex%2C%2C-1%7CPremiumRRSess%2C%2C-1%7CSaveFtrPers%2C%2C-1%7CSPMCSess%2C%2C-1%7CTheForkORSess%2C%2C-1%7CTheForkRRSess%2C%2C-1%7Cpers_rev%2C%2C-1%7CMetaFtrSess%2C%2C-1%7CSPMCWBPers%2C%2C-1%7CRBAPers%2C%2C-1%7CWAR_RESTAURANT_FOOTER_PERSISTANT%2C%2C-1%7CFtrSess%2C%2C-1%7CRestAds%2FRSess%2C%2C-1%7CHomeAPers%2C%2C-1%7CPremiumMobPers%2C%2C-1%7CSPHRPers%2C%2C-1%7CRCSess%2C%2C-1%7CLaFourchette+MC+Banners%2C%2C-1%7CRestAdsCCSess%2C%2C-1%7CRestPartPers%2C%2C-1%7CRestPremRPers%2C%2C-1%7CLastPopunderId%2C137-1859-null%2C-1%7Csh%2C%2C-1%7Cpssamex%2C%2C-1%7CTheForkMCCSess%2C%2C-1%7CCCPers%2C%2C-1%7CWAR_RESTAURANT_FOOTER_SESSION%2C%2C-1%7Cb2bmcsess%2C%2C-1%7CSPMCPers%2C%2C-1%7CPremRetSess%2C%2C-1%7CViatorMCSess%2C%2C-1%7CPremiumMCPers%2C%2C-1%7CPremiumRRPers%2C%2C-1%7CRestAdsCCPers%2C%2C-1%7CTheForkORPers%2C%2C-1%7CPremMCBtmPers%2C%2C-1%7CTheForkRRPers%2C%2C-1%7CSaveFtrSess%2C%2C-1%7CRestAdsSess%2C%2C-1%7CRBASess%2C%2C-1%7CSPORPers%2C%2C-1%7Cperssticker%2C%2C-1%7CSPMCWBSess%2C%2C-1%7CCPNC%2C%2C-1%7CMetaFtrPers%2C%2C-1%7C; _smt_uid=5b641689.4be155cb; ServerPool=C; _gid=GA1.2.769685197.1533517434; BEPIN=%1%1650cc30cee%3Busr03t.daodao.com%3A10023%3B; CommercePopunder=SuppressAll*1533517436832; TAReturnTo=%1%%2FHotel_Review%3Fg%3D294217%26reqNum%3D2%26puid%3DW2en0H8AAAEAAKUqZIEAAABA%26isLastPoll%3Dfalse%26d%3D2031570%26paramSeqId%3D0%26changeSet%3D; SecureLogin2=3.4%3AALx8gT7c7TVFvQXgPiFNdoQrtOymLZZ6TFF7JPVzmw9fxadaJcn6cI46F%2BWTitdP65czgdPzFJ8nrpkYs3aLpOWaGWT0pTOaF%2BVgP83dKUDpYziJ7EDH5ivHxMnc9IzdAoH9YsWMZWzEWHS6IVhMqV8d6tiiuXRXsZj6abvXFhXua8vdotR1Uad9zMeCDK7wmg1yVQ2LEqFnGZQggHzMr9k%3D; TAAuth3=3%3A765fcca6fafa2e6f87cccbbf081f136e%3AACgD9NNWi%2FDIJSpijllGRGf7zWHmFuAJ3sE7HEOdm5t6rprtDdXZPW1N7Mpb7HJ8o7Na6NWI2ADcJsljwT8O1UZcUfFxcep6nfd3UkS7PmBUNoHrwOp6ixtRk7hmo%2B9%2FaqnXkA%2B2MIB9orsGjdqaifT%2BgKsL4v9WSmKG0BPyJUntztCOI3Bd1NDK9Pd2%2By6q0w%3D%3D; TASession=%1%V2ID.9DE6C7B1A4C863F1159BFA053B72A572*SQ.66*LP.%2FHotel_Review-g294217-d2031570-Reviews-Hotel_ICON-Hong_Kong%5C.html*PR.427%7C*LS.MetaPlacementAjax*GR.29*TCPAR.68*TBR.66*EXEX.31*ABTR.47*PHTB.73*FS.48*CPU.33*HS.recommended*ES.popularity*AS.popularity*DS.5*SAS.popularity*FPS.oldFirst*TS.4FF855B6BB5B175CC1AD591B3B1CC1BA*LF.zhCN*FA.1*DF.0*TRA.false*LD.2031570; TAUD=LA-1533257361502-1*RDD-1-2018_08_03*HDD-1-2018_08_12.2018_08_13.1*LD-266870294-2018.8.12.2018.8.13*LG-266870296-2.1.F.',\n",
    "'Host': 'www.tripadvisor.cn',\n",
    "'Referer': 'https://www.tripadvisor.cn/Hotel_Review-g294217-d2031570-Reviews-Hotel_ICON-Hong_Kong.html',\n",
    "# 'User-Agent':'Mozilla/5.0 (Windows NT 6.1; WOW64) AppleWebKit/537.36 (KHTML, like Gecko) Chrome/66.0.3359.139 Safari/537.36',\n",
    "'User-Agent':UA(),\n",
    "'X-Puid': 'XCdtKn8AAAEAABLnRIQAAAAr',\n",
    "'X-Requested-With': 'XMLHttpRequest'\n",
    "}\n",
    "\n",
    "def crawls(name,cir_number):\n",
    "    f=open(name+'.txt','a')\n",
    "    for i in range(1,cir_number):  \n",
    "#         https://www.tripadvisor.cn/DynamicPlacementAjax?aggregationId=101&albumViewMode=imageThumbs&albumid=101&filter=2&albumPartialsToUpdate=partial&offset=48&loadDirection=Downward&heroMinWidth=929&heroMinHeight=793&gridItemMinWidth=309.6666666666667&updateType=partial&placementRollUps=responsive-photo-viewer&puid=XPxu7sCoAWYAACcFbpwAAAB%40&geo=664891&detail=8331360&area=QC_Meta_Mini%7CPhoto_Lightbox&metaReferer=Hotel_Review\n",
    "        url = 'https://www.tripadvisor.cn/DynamicPlacementAjax?detail=1309708&geo=664891&filter=7&albumId=107&mediaId=23772437&updateType=full&albumViewMode=grid&currentHeroId=&heroMinWidth=1473&heroMinHeight=1197&gridItemMinWidth=294.6&placementRollUps=responsive-photo-viewer&albumid=107&puid=XCr-0n8AAAEAABqsxFMAAAA2&area=QC_Meta_Mini%7CPhoto_Lightbox&metaReferer=Hotel_Review'\n",
    "        hotel=requests.get(url,headers=headers)\n",
    "        b = re.findall(r'https://ccm.ddcdn.com/(.+?)\\.jpg', hotel.text)\n",
    "        a = ['https://ccm.ddcdn.com/'+x+'.jpg' for x in b]\n",
    "        print (a)\n",
    "        a = str(a)\n",
    "        f.write(a)\n",
    "        time.sleep(10)\n",
    "    f.close()"
   ]
  },
  {
   "cell_type": "code",
   "execution_count": 153,
   "metadata": {},
   "outputs": [
    {
     "name": "stdout",
     "output_type": "stream",
     "text": [
      "2\n",
      "['https://ccm.ddcdn.com/ext/photo-s/06/70/b6/11/hotel-man-va.jpg', 'https://ccm.ddcdn.com/photo-s/03/37/a3/80/caption.jpg', 'https://ccm.ddcdn.com/ext/photo-s/01/a1/d5/ef/room.jpg', 'https://ccm.ddcdn.com/ext/photo-s/01/a1/d5/f0/toilet.jpg', 'https://ccm.ddcdn.com/ext/photo-s/03/c8/5c/10/hotel-man-va.jpg', 'https://ccm.ddcdn.com/ext/photo-s/06/70/b6/3e/hotel-man-va.jpg', 'https://ccm.ddcdn.com/ext/photo-s/03/c8/5b/d9/hotel-man-va.jpg', 'https://ccm.ddcdn.com/ext/photo-s/04/20/54/70/hotel-man-va.jpg', 'https://ccm.ddcdn.com/ext/photo-s/03/c8/5c/09/hotel-man-va.jpg', 'https://ccm.ddcdn.com/ext/photo-s/03/c8/5b/e4/hotel-man-va.jpg', 'https://ccm.ddcdn.com/ext/photo-s/03/c8/5c/15/hotel-man-va.jpg', 'https://ccm.ddcdn.com/ext/photo-s/04/20/54/69/hotel-man-va.jpg', 'https://ccm.ddcdn.com/ext/photo-s/03/c8/5c/13/hotel-man-va.jpg', 'https://ccm.ddcdn.com/ext/photo-s/04/20/54/6c/hotel-man-va.jpg', 'https://ccm.ddcdn.com/ext/photo-s/03/c8/5b/cf/hotel-man-va.jpg', 'https://ccm.ddcdn.com/ext/photo-s/03/c8/5b/f2/hotel-man-va.jpg', 'https://ccm.ddcdn.com/ext/photo-s/04/20/54/5f/hotel-man-va.jpg', 'https://ccm.ddcdn.com/ext/photo-s/03/c8/5b/ca/hotel-man-va.jpg', 'https://ccm.ddcdn.com/photo-s/01/6a/bd/15/hjg.jpg']\n"
     ]
    }
   ],
   "source": [
    "cir = int(19/48 + 2)\n",
    "print(cir)\n",
    "crawls(\"2文华酒店\",cir)"
   ]
  },
  {
   "cell_type": "code",
   "execution_count": null,
   "metadata": {},
   "outputs": [],
   "source": []
  }
 ],
 "metadata": {
  "kernelspec": {
   "display_name": "Python 3",
   "language": "python",
   "name": "python3"
  },
  "language_info": {
   "codemirror_mode": {
    "name": "ipython",
    "version": 3
   },
   "file_extension": ".py",
   "mimetype": "text/x-python",
   "name": "python",
   "nbconvert_exporter": "python",
   "pygments_lexer": "ipython3",
   "version": "3.6.5"
  }
 },
 "nbformat": 4,
 "nbformat_minor": 2
}
