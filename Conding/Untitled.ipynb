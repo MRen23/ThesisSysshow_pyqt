{
 "cells": [
  {
   "cell_type": "code",
   "execution_count": 2,
   "metadata": {},
   "outputs": [],
   "source": [
    "import scipy\n",
    "import scipy.cluster.hierarchy as sch\n",
    "from scipy.cluster.vq import vq,kmeans,whiten\n",
    "import numpy as np\n",
    "import matplotlib.pylab as plt"
   ]
  },
  {
   "cell_type": "code",
   "execution_count": 1,
   "metadata": {},
   "outputs": [],
   "source": [
    "from sklearn.metrics import silhouette_samples, silhouette_score, davies_bouldin_score\n"
   ]
  },
  {
   "cell_type": "code",
   "execution_count": 3,
   "metadata": {},
   "outputs": [],
   "source": [
    "from sklearn.metrics import *"
   ]
  },
  {
   "cell_type": "code",
   "execution_count": 4,
   "metadata": {},
   "outputs": [],
   "source": [
    "points=scipy.randn(20,4)  "
   ]
  },
  {
   "cell_type": "code",
   "execution_count": 5,
   "metadata": {},
   "outputs": [
    {
     "name": "stdout",
     "output_type": "stream",
     "text": [
      "Original cluster by hierarchy clustering:\n",
      " [2 3 2 3 2 3 1 2 2 3 3 3 1 3 2 2 3 1 3 2]\n"
     ]
    }
   ],
   "source": [
    "#1. 层次聚类\n",
    "#生成点与点之间的距离矩阵,这里用的欧氏距离:\n",
    "disMat = sch.distance.pdist(points,'euclidean') \n",
    "#进行层次聚类:\n",
    "Z=sch.linkage(disMat,method='average') \n",
    "\n",
    "#将层级聚类结果以树状图表示出来并保存为plot_dendrogram.png\n",
    "# P=sch.dendrogram(Z)\n",
    "#plt.savefig('plot_dendrogram.png')\n",
    "#根据linkage matrix Z得到聚类结果:\n",
    "\n",
    "cluster= sch.fcluster(Z,t=3,criterion='maxclust') \n",
    "\n",
    "print (\"Original cluster by hierarchy clustering:\\n\",cluster)\n"
   ]
  },
  {
   "cell_type": "code",
   "execution_count": 6,
   "metadata": {},
   "outputs": [],
   "source": [
    "silhouette_avg = davies_bouldin_score(points, cluster)"
   ]
  },
  {
   "cell_type": "code",
   "execution_count": 7,
   "metadata": {},
   "outputs": [
    {
     "name": "stdout",
     "output_type": "stream",
     "text": [
      "For n_clusters = 3 The average silhouette_score is : 1.1811728067048497\n"
     ]
    }
   ],
   "source": [
    "print(\"For n_clusters =\", 3,\n",
    "          \"The average silhouette_score is :\", silhouette_avg)"
   ]
  },
  {
   "cell_type": "code",
   "execution_count": 8,
   "metadata": {},
   "outputs": [],
   "source": [
    "from sklearn.metrics import davies_bouldin_score"
   ]
  },
  {
   "cell_type": "code",
   "execution_count": null,
   "metadata": {},
   "outputs": [],
   "source": []
  }
 ],
 "metadata": {
  "kernelspec": {
   "display_name": "Python 3",
   "language": "python",
   "name": "python3"
  },
  "language_info": {
   "codemirror_mode": {
    "name": "ipython",
    "version": 3
   },
   "file_extension": ".py",
   "mimetype": "text/x-python",
   "name": "python",
   "nbconvert_exporter": "python",
   "pygments_lexer": "ipython3",
   "version": "3.6.5"
  }
 },
 "nbformat": 4,
 "nbformat_minor": 2
}
