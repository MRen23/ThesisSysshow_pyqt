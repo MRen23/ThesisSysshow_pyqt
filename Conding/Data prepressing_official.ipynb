{
 "cells": [
  {
   "cell_type": "code",
   "execution_count": 1,
   "metadata": {},
   "outputs": [],
   "source": [
    "#　导入必要的包\n",
    "import csv\n",
    "import numpy as np\n",
    "from scipy.cluster.hierarchy import dendrogram, linkage, fcluster,cut_tree,cophenet,inconsistent\n",
    "import scipy.cluster.hierarchy as sch\n",
    "from matplotlib import pyplot as plt\n",
    "from matplotlib.pyplot import xticks\n",
    "import pandas as pd\n",
    "from scipy.spatial import distance\n",
    "from itertools import groupby #itertool还包含有其他很多函数，比如将多个list联合起来\n",
    "import json\n",
    "from sklearn.metrics.pairwise import euclidean_distances\n",
    "import re\n",
    "from orangecontrib.associate.fpgrowth import * \n",
    "from collections import Counter\n",
    "from gensim.models import KeyedVectors\n",
    "from sklearn.metrics import silhouette_samples, silhouette_score, davies_bouldin_score"
   ]
  },
  {
   "cell_type": "code",
   "execution_count": 2,
   "metadata": {},
   "outputs": [],
   "source": [
    "'''\n",
    "函数名：读数据\n",
    "输入：json数据的路径\n",
    "输出：每张图片用list数据存储的label集，每个图片label的评分集，以及每个图片的url\n",
    "描述：该函数实现从文件中读取json数据文件，并分别解析出label集，评分集，以及url集\n",
    "'''\n",
    "def loadjson_label(path):\n",
    "    with open (path,'rb') as json_data:\n",
    "        data = json.load(json_data)\n",
    "    labels = []\n",
    "    \n",
    "    #打印所有的labels\n",
    "    for i in data:\n",
    "        labels.append(i[:-1])\n",
    "    classes = []\n",
    "    for i in labels:\n",
    "        temp = []\n",
    "        for j in i:\n",
    "            c = list(j[0].values())\n",
    "            temp.append(c[0])\n",
    "        classes.append(temp)\n",
    "    \n",
    "    # 打印所有的score\n",
    "    score = []\n",
    "    for i in labels:\n",
    "        temp = []\n",
    "        for j in i:\n",
    "            c = list(j[1].values())\n",
    "            temp.append(c[0])\n",
    "        score.append(temp)\n",
    "\n",
    "    \n",
    "    #打印所有的urls\n",
    "    urls = []\n",
    "    for i in data:\n",
    "        urls.append(list(i[-1].values())[0])    \n",
    "    return classes, score, urls"
   ]
  },
  {
   "cell_type": "code",
   "execution_count": 3,
   "metadata": {},
   "outputs": [],
   "source": [
    "# 读数据face\n",
    "def loadjson_face(path):\n",
    "    with open (path,'rb') as json_data:\n",
    "        data = json.load(json_data)\n",
    "    data_with_face = []\n",
    "    for i in data:\n",
    "        if len(i)!=1:\n",
    "            data_with_face.append(i)\n",
    "    rate = len(data_with_face)/len(data)\n",
    "#     print (\"识别出来脸总共：\",len(data_with_face))\n",
    "#     print (\"总数据：\",len(data))\n",
    "    return data,data_with_face,rate"
   ]
  },
  {
   "cell_type": "code",
   "execution_count": 4,
   "metadata": {},
   "outputs": [],
   "source": [
    "# 读数据color\n",
    "def loadjson_color(path):\n",
    "    with open (path,'rb') as json_data:\n",
    "        data = json.load(json_data)\n",
    "    labels = []\n",
    "    # #打印所有的了labels\n",
    "    for i in data:\n",
    "        labels.append(i[:-1])\n",
    "    temp = []\n",
    "    for i in labels:\n",
    "        temp_t = []\n",
    "        for j in i:\n",
    "            temp_t.append(j[:4])\n",
    "        temp.append(temp_t)\n",
    "\n",
    "    urls = []\n",
    "    for i in data:\n",
    "        urls.append(i[-1])\n",
    "\n",
    "    datasets = []\n",
    "    for i in range(0,len(temp)):\n",
    "        datasets.append(list(temp[i])+list(urls[i].values()))\n",
    "        \n",
    "    return datasets"
   ]
  },
  {
   "cell_type": "code",
   "execution_count": 5,
   "metadata": {},
   "outputs": [
    {
     "name": "stdout",
     "output_type": "stream",
     "text": [
      "共享办公室图片总共: 1287\n",
      "开放式办公室图片总共: 356\n",
      "总数据量： 1643\n",
      "共享办公室可识别颜色图片总数： 1287\n",
      "开放式办公室可识别颜色图片总数： 356\n",
      "总数据量： 1643\n",
      "共享办公室识别出来脸的图片： 218\n",
      "开放式办公室识别出来脸的图片： 7\n",
      "总共识别出来脸的图片数据量： 225\n"
     ]
    }
   ],
   "source": [
    "#读label\n",
    "coshared_labelset, coshared_score, coshared_urls = loadjson_label('dataset\\office\\label\\coshared.json')\n",
    "print('共享办公室图片总共:',len(coshared_labelset))\n",
    "open_labelset, open_score, open_urls = loadjson_label('dataset\\office\\label\\open.json')\n",
    "print ('开放式办公室图片总共:',len(open_labelset))\n",
    "print('总数据量：',len(coshared_labelset)+len(open_labelset))\n",
    "\n",
    "#读color\n",
    "\n",
    "coshared_color = loadjson_color('dataset\\office\\color\\coshared.json')\n",
    "print('共享办公室可识别颜色图片总数：',len(coshared_color))\n",
    "open_color = loadjson_color('dataset\\office\\color\\open.json')\n",
    "print('开放式办公室可识别颜色图片总数：',len(open_color))\n",
    "print ('总数据量：',len(coshared_color)+len(open_color))\n",
    "\n",
    "#读face\n",
    "\n",
    "coshared_faceset, coshared_face, coshared_rate = loadjson_face('dataset\\office\\\\face\\coshared.json')\n",
    "print('共享办公室识别出来脸的图片：',len(coshared_face))\n",
    "open_faceset, open_face, open_rate = loadjson_face('dataset\\office\\\\face\\open.json')\n",
    "print('开放式办公室识别出来脸的图片：',len(open_face))\n",
    "print ('总共识别出来脸的图片数据量：',len(coshared_face)+len(open_face))\n",
    "\n",
    "# # 读label\n",
    "# print('====================================官方数据集label识别结果=======================================')\n",
    "# official_labelset_five,official_score_five, official_urls_five = loadjson_label('dataset\\official\\google\\label\\\\five.json')\n",
    "# print('五星级酒店图片总共:',len(official_labelset_five))\n",
    "# official_labelset_four,official_score_four, official_urls_four = loadjson_label('dataset\\official\\google\\label\\\\four.json')\n",
    "# print ('四星级酒店图片总共:',len(official_labelset_four))\n",
    "# official_labelset_three,official_score_three, official_urls_three = loadjson_label('dataset\\official\\google\\label\\\\three.json')\n",
    "# print ('三星级酒店图片总共:',len(official_labelset_three))\n",
    "# official_labelset_two,official_score_two, official_urls_two = loadjson_label('dataset\\official\\google\\label\\\\two.json')\n",
    "# print ('二星级酒店图片总共:',len(official_labelset_two))\n",
    "# print('总数据量：',len(official_labelset_five)+len(official_labelset_four)+len(official_labelset_three)+len(official_labelset_two))\n",
    "\n",
    "# # 读color\n",
    "# print('=====================================官方数据集color识别结果========================================')\n",
    "# official_colorset_five = loadjson_color('dataset\\official\\google\\color\\\\five.json')\n",
    "# print('五星级酒店可识别颜色图片总数：',len(official_colorset_five))\n",
    "# official_colorset_four = loadjson_color('dataset\\official\\google\\color\\\\four.json')\n",
    "# print('四星级酒店可识别颜色图片总数：',len(official_colorset_four))\n",
    "# official_colorset_three= loadjson_color('dataset\\official\\google\\color\\\\three.json')\n",
    "# print('三星级酒店可识别颜色图片总数：',len(official_colorset_three))\n",
    "# official_colorset_two= loadjson_color('dataset\\official\\google\\color\\\\two.json')\n",
    "# print('二星级酒店可识别颜色图片总数：',len(official_colorset_two))\n",
    "# print ('总数据量：',len(official_colorset_five)+len(official_colorset_four)+len(official_colorset_three)+len(official_colorset_two))\n",
    "\n",
    "# # 读face\n",
    "# print ('======================================官方数据集face识别结果=======================================')\n",
    "# #其中faceset_five表示五星级酒店总数据，face_five表示识别出来脸的图片集，rate_five表示评分\n",
    "# official_faceset_five,official_face_five,official_rate_five = loadjson_face('dataset\\official\\google\\\\face\\\\five.json')\n",
    "# print('五星级酒店识别出来脸的图片：',len(official_face_five))\n",
    "# official_faceset_four,official_face_four,official_rate_four = loadjson_face('dataset\\official\\google\\\\face\\\\four.json')\n",
    "# print('四星级酒店识别出来脸的图片：',len(official_face_four))\n",
    "# official_faceset_three,official_face_three,official_rate_three = loadjson_face('dataset\\official\\google\\\\face\\\\three.json')\n",
    "# print('三星级酒店识别出来脸的图片：',len(official_face_three))\n",
    "# official_faceset_two,official_face_two,official_rate_two = loadjson_face('dataset\\official\\google\\\\face\\\\two.json')\n",
    "# print('二星级酒店识别出来脸的图片：',len(official_face_two))\n",
    "# print ('总共识别出来脸的图片数据量：',len(official_face_five)+len(official_face_four)+len(official_face_three)+len(official_face_two))"
   ]
  },
  {
   "cell_type": "code",
   "execution_count": 6,
   "metadata": {},
   "outputs": [],
   "source": [
    "'''\n",
    "函数名：数据预处理\n",
    "输入：label集，url\n",
    "输出：经过处理的label集，并将url并进去\n",
    "描述：通过该函数将获取到的数据集进行预处理。1.去掉空格，2.去掉括号，3.将url添加上。\n",
    "'''\n",
    "def preprocessing(labelset,urls):\n",
    "#     i=0\n",
    "#     for labels in labelset:\n",
    "#         labels.append(urls[i])\n",
    "#         i+=1\n",
    "    sets_ini = []\n",
    "    for i in labelset:\n",
    "        inter_sets = []\n",
    "        for j in i:\n",
    "#             j = j.replace(' ','')                          # 去掉空格\n",
    "            j = j.split(' ')[-1] \n",
    "            inter_sets.append(re.sub('\\((.*?\\))', '', j))  # 去掉括号\n",
    "        sets_ini.append(inter_sets)\n",
    "    return sets_ini"
   ]
  },
  {
   "cell_type": "code",
   "execution_count": 7,
   "metadata": {},
   "outputs": [
    {
     "name": "stdout",
     "output_type": "stream",
     "text": [
      "共享办公室图片数据集个数 =  1287\n",
      "开放式办公室图片数据集个数 =  356\n"
     ]
    }
   ],
   "source": [
    "#　对数据集进行预处理\n",
    "\n",
    "coshared_ini = preprocessing(coshared_labelset,coshared_urls)\n",
    "print (\"共享办公室图片数据集个数 = \", len (coshared_ini))\n",
    "open_ini = preprocessing(open_labelset,open_urls)\n",
    "print (\"开放式办公室图片数据集个数 = \", len (open_ini))"
   ]
  },
  {
   "cell_type": "code",
   "execution_count": 8,
   "metadata": {},
   "outputs": [],
   "source": [
    "'''所有标签统计'''\n",
    "all_labels_set = coshared_ini + open_ini "
   ]
  },
  {
   "cell_type": "code",
   "execution_count": 9,
   "metadata": {},
   "outputs": [],
   "source": [
    "# 取出所有的label\n",
    "'''\n",
    "函数名：取出所有label并进行统计\n",
    "输入：每个图片的label list\n",
    "输出：每个数据集中的label集合，数据集label统计并排序之后的结果\n",
    "描述：对之前的图片的label list中的label先取出来，然后进行统计每个label在整个数据集中出现的百分比\n",
    "'''\n",
    "def label_stat(sets_ini):\n",
    "#     all_sets = [] # 存放c不带url的数据集\n",
    "#     for i in sets_ini:\n",
    "#         all_sets.append(i[:-1])\n",
    "#     label_all = [] # 存放所有label\n",
    "#     for i in all_sets:\n",
    "#         for j in i:\n",
    "#             label_all.append(j)  \n",
    "    label_all = [] # 存放所有label\n",
    "    for i in sets_ini:\n",
    "        for j in i:\n",
    "            label_all.append(j)   \n",
    "    #数据集长度定义\n",
    "    length = len(sets_ini)\n",
    "    #数据集每个label计数\n",
    "    c = Counter(label_all)\n",
    "    stat_sets = []\n",
    "    for i in c.items():\n",
    "        stat_sets.append([i[0],round(i[1]/length,5)])\n",
    "    # 数据集label 频率排序    \n",
    "    n = len(stat_sets)\n",
    "    for i in range(n-1):\n",
    "        for j in range(n-i-1):\n",
    "            if stat_sets[j][1]<stat_sets[j+1][1]:\n",
    "                stat_sets[j],stat_sets[j+1] = stat_sets[j+1],stat_sets[j]\n",
    "    return label_all, stat_sets"
   ]
  },
  {
   "cell_type": "code",
   "execution_count": 10,
   "metadata": {},
   "outputs": [
    {
     "data": {
      "text/plain": [
       "1643"
      ]
     },
     "execution_count": 10,
     "metadata": {},
     "output_type": "execute_result"
    }
   ],
   "source": [
    "len(all_labels_set)"
   ]
  },
  {
   "cell_type": "code",
   "execution_count": 11,
   "metadata": {},
   "outputs": [
    {
     "name": "stdout",
     "output_type": "stream",
     "text": [
      "共享办公室数据集label个数 =  412\n",
      "开放式数据集label个数 =  91\n",
      "================================所有标签统计============================================\n",
      "所有label个数 =  424\n"
     ]
    }
   ],
   "source": [
    "#official_label_all_five表示五星级酒店出现的标签，official_stat_five表示五星级酒店每个词以及这个词出现的频率\n",
    "\n",
    "coshared_label_all, coshared_stat = label_stat(coshared_ini)\n",
    "print (\"共享办公室数据集label个数 = \",len(coshared_stat))\n",
    "open_label_all,open_stat = label_stat(open_ini)\n",
    "print (\"开放式数据集label个数 = \",len(open_stat))\n",
    "\n",
    "print ('================================所有标签统计============================================')\n",
    "all_labels,all_labels_stat = label_stat(all_labels_set)\n",
    "print ('所有label个数 = ', len(all_labels_stat))"
   ]
  },
  {
   "cell_type": "code",
   "execution_count": 12,
   "metadata": {},
   "outputs": [
    {
     "name": "stdout",
     "output_type": "stream",
     "text": [
      "        0          1        2        3        4         5        6        7   \\\n",
      "0   design  furniture    table   office     room  flooring    floor   estate   \n",
      "1  0.70163    0.48019  0.40715  0.29138  0.25719   0.24165  0.21368  0.19736   \n",
      "\n",
      "        8        9   ...          40       41       42       43       44  \\\n",
      "0  ceiling   window  ...  recreation      fun     roof   facade     city   \n",
      "1  0.16162  0.15229  ...      0.0272  0.02486  0.02486  0.02253  0.02176   \n",
      "\n",
      "        45       46      47        48       49  \n",
      "0      art  vehicle    door  training     girl  \n",
      "1  0.02098   0.0202  0.0202    0.0202  0.01943  \n",
      "\n",
      "[2 rows x 50 columns]\n"
     ]
    }
   ],
   "source": [
    "type(coshared_stat)\n",
    "\n",
    "coshared_stat_df = pd.DataFrame(np.array(coshared_stat[:50]).T)\n",
    "print (coshared_stat_df)"
   ]
  },
  {
   "cell_type": "code",
   "execution_count": 13,
   "metadata": {},
   "outputs": [
    {
     "name": "stdout",
     "output_type": "stream",
     "text": [
      "==========================================================================================\n",
      "共享办公室图片出现频率前50：\n",
      "[['design', 0.70163], ['furniture', 0.48019], ['table', 0.40715], ['office', 0.29138], ['room', 0.25719], ['flooring', 0.24165], ['floor', 0.21368], ['estate', 0.19736], ['ceiling', 0.16162], ['window', 0.15229], ['daylighting', 0.12821], ['chair', 0.12665], ['house', 0.12277], ['hall', 0.11267], ['restaurant', 0.08625], ['desk', 0.08547], ['architecture', 0.08392], ['loft', 0.08236], ['communication', 0.07848], ['product', 0.07304], ['home', 0.07226], ['lobby', 0.06915], ['angle', 0.06605], ['building', 0.05828], ['classroom', 0.05517], ['property', 0.05284], ['wood', 0.05206], ['apartment', 0.05051], ['device', 0.04895], ['glass', 0.04895], ['structure', 0.04662], ['plant', 0.04584], ['technology', 0.04429], ['wall', 0.04351], ['café', 0.04118], ['area', 0.03186], ['tree', 0.03108], ['conversation', 0.03108], ['exhibition', 0.02875], ['job', 0.0272], ['recreation', 0.0272], ['fun', 0.02486], ['roof', 0.02486], ['facade', 0.02253], ['city', 0.02176], ['art', 0.02098], ['vehicle', 0.0202], ['door', 0.0202], ['training', 0.0202], ['girl', 0.01943]]\n",
      "==========================================================================================\n",
      "2,3星级酒店官方图片出现频率前50：\n",
      "[['design', 0.75562], ['office', 0.61236], ['furniture', 0.39326], ['ceiling', 0.36517], ['daylighting', 0.32584], ['table', 0.23034], ['factory', 0.15169], ['flooring', 0.14888], ['loft', 0.14045], ['estate', 0.10955], ['hall', 0.10674], ['building', 0.10393], ['product', 0.09551], ['architecture', 0.08146], ['lobby', 0.07584], ['floor', 0.06742], ['restaurant', 0.06461], ['chair', 0.05899], ['white', 0.04775], ['organization', 0.04213], ['engineering', 0.04213], ['room', 0.03652], ['angle', 0.03652], ['structure', 0.03652], ['house', 0.03371], ['monochrome', 0.0309], ['apartment', 0.02809], ['leisure', 0.02809], ['technology', 0.02809], ['job', 0.02809], ['venue', 0.02528], ['desk', 0.02528], ['photography', 0.02247], ['recreation', 0.01966], ['industry', 0.01966], ['classroom', 0.01966], ['retail', 0.01685], ['stall', 0.01685], ['warehouse', 0.01685], ['machine', 0.01685], ['computer', 0.01685], ['device', 0.01404], ['vehicle', 0.01124], ['cafeteria', 0.01124], ['window', 0.01124], ['area', 0.01124], ['property', 0.00843], ['roof', 0.00843], ['canopy', 0.00843], ['tourism', 0.00843]]\n",
      "==========================================================================================\n",
      "所有图片出现频率前50：\n",
      "[['design', 0.71333], ['furniture', 0.46135], ['table', 0.36884], ['office', 0.36093], ['flooring', 0.22155], ['room', 0.20937], ['ceiling', 0.20572], ['floor', 0.18198], ['estate', 0.17833], ['daylighting', 0.17103], ['window', 0.12173], ['chair', 0.11199], ['hall', 0.11138], ['house', 0.10347], ['loft', 0.09495], ['architecture', 0.08338], ['restaurant', 0.08156], ['product', 0.07791], ['desk', 0.07243], ['lobby', 0.0706], ['building', 0.06817], ['communication', 0.06269], ['angle', 0.05965], ['home', 0.0566], ['classroom', 0.04747], ['apartment', 0.04565], ['structure', 0.04443], ['property', 0.04321], ['wood', 0.04139], ['device', 0.04139], ['technology', 0.04078], ['glass', 0.04017], ['plant', 0.03591], ['factory', 0.0353], ['wall', 0.03408], ['café', 0.03226], ['job', 0.02739], ['area', 0.02739], ['recreation', 0.02556], ['tree', 0.02435], ['conversation', 0.02435], ['exhibition', 0.02435], ['roof', 0.0213], ['white', 0.0213], ['photography', 0.02009], ['fun', 0.01948], ['city', 0.01826], ['vehicle', 0.01826], ['facade', 0.01765], ['training', 0.01704]]\n"
     ]
    }
   ],
   "source": [
    "print ('==========================================================================================')\n",
    "print ('共享办公室图片出现频率前50：')\n",
    "print (coshared_stat[:50])\n",
    "\n",
    "print ('==========================================================================================')\n",
    "print ('2,3星级酒店官方图片出现频率前50：')\n",
    "print (open_stat[:50])\n",
    "\n",
    "print ('==========================================================================================')\n",
    "print ('所有图片出现频率前50：')\n",
    "print (all_labels_stat[:50])"
   ]
  },
  {
   "cell_type": "code",
   "execution_count": 14,
   "metadata": {},
   "outputs": [
    {
     "name": "stdout",
     "output_type": "stream",
     "text": [
      "0.71333\n",
      "0.46135\n",
      "0.36884\n",
      "0.36093\n",
      "0.22155\n",
      "0.20937\n",
      "0.20572\n",
      "0.18198\n",
      "0.17833\n",
      "0.17103\n",
      "0.12173\n",
      "0.11199\n",
      "0.11138\n",
      "0.10347\n",
      "0.09495\n",
      "0.08338\n",
      "0.08156\n",
      "0.07791\n",
      "0.07243\n",
      "0.0706\n",
      "0.06817\n",
      "0.06269\n",
      "0.05965\n",
      "0.0566\n",
      "0.04747\n",
      "0.04565\n",
      "0.04443\n",
      "0.04321\n",
      "0.04139\n",
      "0.04139\n",
      "0.04078\n",
      "0.04017\n",
      "0.03591\n",
      "0.0353\n",
      "0.03408\n",
      "0.03226\n",
      "0.02739\n",
      "0.02739\n",
      "0.02556\n",
      "0.02435\n",
      "0.02435\n",
      "0.02435\n",
      "0.0213\n",
      "0.0213\n",
      "0.02009\n",
      "0.01948\n",
      "0.01826\n",
      "0.01826\n",
      "0.01765\n",
      "0.01704\n"
     ]
    }
   ],
   "source": [
    "for i in all_labels_stat[:50]:\n",
    "    print (i[1])"
   ]
  },
  {
   "cell_type": "code",
   "execution_count": 15,
   "metadata": {},
   "outputs": [],
   "source": [
    "# histogram 对co shared 数据集进行统计\n",
    "'''\n",
    "函数名：画统计图\n",
    "输入：统计后的数据集，图名\n",
    "输出：统计图\n",
    "描述：该函数用来画统计图\n",
    "'''\n",
    "def hist_bar(sets,title):\n",
    "    plt.rcParams['font.sans-serif']=['SimHei']\n",
    "    plt.rcParams['axes.unicode_minus'] = False\n",
    "    X = []\n",
    "    for i in sets[:20]:\n",
    "        X.append(i[0])\n",
    "    # print (co_X)\n",
    "    Y = []\n",
    "    for i in sets[:20]:\n",
    "        Y.append(i[1])\n",
    "    \n",
    "    fig = plt.figure()\n",
    "    plt.bar(X,Y,0.6,color=\"green\")\n",
    "    plt.xlabel(\"标签名\",family = 'FangSong',weight='bold',size=14)\n",
    "    plt.xticks(rotation=90)\n",
    "  \n",
    "    plt.ylabel(\"频率\",family = 'FangSong',size=14)\n",
    "#     plt.title(title+ \"标签统计结果\",fontsize=16)\n",
    "    plt.tick_params(axis='both',which='major',labelsize=14.5)\n",
    "    plt.savefig(r'./导出的图片/'+title+'20.png',dpi=200,bbox_inches = 'tight')\n",
    "    plt.show() \n",
    "        \n",
    "#     fig = plt.figure()\n",
    "#     plt.bar(X,Y,0.6,color=\"green\")\n",
    "#     plt.xlabel(\"标签名\")\n",
    "#     plt.xticks(rotation=80)\n",
    "#     plt.ylabel(\"频率\")\n",
    "#     plt.title(title+ \"标签统计结果\",fontsize=16)\n",
    "#     plt.tick_params(axis='both',which='major',labelsize=9)\n",
    "#     plt.savefig(r'./导出的图片/办公室/'+title+'.png',dpi=300,bbox_inches = 'tight')\n",
    "#     plt.show() "
   ]
  },
  {
   "cell_type": "code",
   "execution_count": 16,
   "metadata": {},
   "outputs": [
    {
     "data": {
      "image/png": "[encoded data removed]",
      "text/plain": [
       "<Figure size 432x288 with 1 Axes>"
      ]
     },
     "metadata": {
      "needs_background": "light"
     },
     "output_type": "display_data"
    },
    {
     "data": {
      "image/png": "[encoded data removed]",
      "text/plain": [
       "<Figure size 432x288 with 1 Axes>"
      ]
     },
     "metadata": {
      "needs_background": "light"
     },
     "output_type": "display_data"
    },
    {
     "data": {
      "image/png": "[encoded data removed]",
      "text/plain": [
       "<Figure size 432x288 with 1 Axes>"
      ]
     },
     "metadata": {
      "needs_background": "light"
     },
     "output_type": "display_data"
    }
   ],
   "source": [
    "hist_bar(coshared_stat,'共享办公室数据集')\n",
    "hist_bar(open_stat,'开放式办公室数据集')\n",
    "hist_bar(all_labels_stat,'办公室总数据集')"
   ]
  },
  {
   "cell_type": "code",
   "execution_count": 17,
   "metadata": {},
   "outputs": [],
   "source": [
    "# google news\n",
    "# GOOGLENEWS_FILE_GLOVE = 'C:\\\\Users\\TF\\Desktop\\BunCode\\GoogleNews-vectors-negative300.bin'\n",
    "GOOGLENEWS_FILE_GLOVE = 'E:\\毕业论文\\BunCode\\GoogleNews-vectors-negative300.bin'\n",
    "\n",
    "def word_embedding_to_vector(path,word_set):\n",
    "    print('starting')\n",
    "    embeddings = {}\n",
    "    embeddings_process=KeyedVectors.load_word2vec_format(path, binary=True)\n",
    "    \n",
    "    for word in word_set:\n",
    "        if word in embeddings_process.vocab:\n",
    "            embeddings[word]=embeddings_process.word_vec(word)\n",
    "        else:\n",
    "            pass\n",
    "    print ('ending')\n",
    "    return embeddings"
   ]
  },
  {
   "cell_type": "code",
   "execution_count": 38,
   "metadata": {},
   "outputs": [
    {
     "name": "stdout",
     "output_type": "stream",
     "text": [
      "starting\n",
      "ending\n"
     ]
    }
   ],
   "source": [
    "all_embedding = word_embedding_to_vector(GOOGLENEWS_FILE_GLOVE,all_labels)"
   ]
  },
  {
   "cell_type": "code",
   "execution_count": 39,
   "metadata": {},
   "outputs": [],
   "source": [
    "import pickle\n",
    "# all_embedding_file = pickle.dumps(all_embedding)\n",
    "\n",
    "with open('all_embedding_office.pickle', 'wb') as f:\n",
    "    pickle.dump(all_embedding, f, protocol=pickle.HIGHEST_PROTOCOL)"
   ]
  },
  {
   "cell_type": "code",
   "execution_count": null,
   "metadata": {},
   "outputs": [],
   "source": []
  },
  {
   "cell_type": "code",
   "execution_count": 40,
   "metadata": {},
   "outputs": [],
   "source": [
    "with open('all_embedding_office.pickle', 'rb') as f:\n",
    "    all_embedding = pickle.load(f)"
   ]
  },
  {
   "cell_type": "code",
   "execution_count": 41,
   "metadata": {},
   "outputs": [
    {
     "data": {
      "text/plain": [
       "dict"
      ]
     },
     "execution_count": 41,
     "metadata": {},
     "output_type": "execute_result"
    }
   ],
   "source": [
    "type(all_embedding)"
   ]
  },
  {
   "cell_type": "code",
   "execution_count": 42,
   "metadata": {},
   "outputs": [],
   "source": [
    "def divided (res_emb):\n",
    "    # 对于可以得到词向量的元素\n",
    "    mat = [] # 存词向量\n",
    "    for val in res_emb.values():\n",
    "        mat.append(val)\n",
    "    mat_key = [] # 存key值\n",
    "    for ke in res_emb.keys():\n",
    "        mat_key.append(ke)\n",
    "    return mat,mat_key"
   ]
  },
  {
   "cell_type": "code",
   "execution_count": 43,
   "metadata": {},
   "outputs": [],
   "source": [
    "all_mat,all_key = divided(all_embedding)"
   ]
  },
  {
   "cell_type": "code",
   "execution_count": 20,
   "metadata": {},
   "outputs": [],
   "source": [
    "# 进行层次聚类\n",
    "def hierarchy_cluster(data, method='average', threshold=5.0):\n",
    "    '''层次聚类\n",
    "    Arguments:\n",
    "        data [[0, float, ...], [float, 0, ...]] -- 文档 i 和文档 j 的距离\n",
    "    Keyword Arguments:\n",
    "        method {str} -- [linkage的方式： single、complete、average、centroid、median、ward] (default: {'average'})\n",
    "        threshold {float} -- 聚类簇之间的距离\n",
    "    Return:\n",
    "        cluster_number int -- 聚类个数\n",
    "        cluster [[idx1, idx2,..], [idx3]] -- 每一类下的索引\n",
    "    '''\n",
    "    data = np.array(data)\n",
    "    Z = linkage(data, method=method)\n",
    "    cluster_assignments = fcluster(Z, threshold, criterion='distance')\n",
    "    num_clusters = cluster_assignments.max()\n",
    "    indices = get_cluster_indices(cluster_assignments)\n",
    "    return num_clusters, indices"
   ]
  },
  {
   "cell_type": "code",
   "execution_count": 21,
   "metadata": {},
   "outputs": [],
   "source": [
    "# 对于聚类结果进行映射\n",
    "def get_cluster_indices(cluster_assignments):\n",
    "    '''映射每一类至原数据索引\n",
    "    Arguments:\n",
    "        cluster_assignments 层次聚类后的结果\n",
    "    Returns:\n",
    "        [[idx1, idx2,..], [idx3]] -- 每一类下的索引\n",
    "    '''\n",
    "    n = cluster_assignments.max()\n",
    "#     print (\"n = \",n)\n",
    "    indices = []\n",
    "    for cluster_number in range(1, n + 1):\n",
    "        indices.append(np.where(cluster_assignments == cluster_number)[0])\n",
    "    return indices"
   ]
  },
  {
   "cell_type": "code",
   "execution_count": 22,
   "metadata": {},
   "outputs": [
    {
     "name": "stdout",
     "output_type": "stream",
     "text": [
      "[[178.         330.           1.33845811   2.        ]\n",
      " [183.         212.           1.49042397   2.        ]\n",
      " [ 31.          72.           1.79104043   2.        ]\n",
      " ...\n",
      " [823.         832.          10.38515014 104.        ]\n",
      " [805.         835.          10.81512595 316.        ]\n",
      " [836.         837.          13.33626997 420.        ]]\n"
     ]
    },
    {
     "data": {
      "image/png": "[encoded data removed]",
      "text/plain": [
       "<Figure size 432x288 with 1 Axes>"
      ]
     },
     "metadata": {
      "needs_background": "light"
     },
     "output_type": "display_data"
    }
   ],
   "source": [
    "arr = np.array(all_mat)\n",
    "# r, c = arr.shape\n",
    "# num_clusters, indices = hierarchy_cluster(arr)\n",
    "# for k, ind in enumerate(indices):\n",
    "#     lab = []\n",
    "#     for ttt in ind:\n",
    "#         lab.append(mat_key[ttt])\n",
    "arr = pd.DataFrame(arr)\n",
    "# 利用scipy包进行层次聚类\n",
    "Z = linkage(arr, method ='ward',metric='euclidean')\n",
    "\n",
    "\n",
    "print (Z)\n",
    "plt.title('Hierarchical Clustering')\n",
    "plt.ylabel('distance')\n",
    "max_d = 150\n",
    "t = dendrogram(Z,labels = all_key,\n",
    "               truncate_mode='lastp',  # show only the last p merged clusters\n",
    "               p=2000,  # show only the last p merged clusters\n",
    "               leaf_rotation=90.,\n",
    "               leaf_font_size=1.4,\n",
    "               show_leaf_counts=True,\n",
    "               show_contracted=True, # to get a distribution impression in truncated branches\n",
    "              )\n",
    "# plt.savefig(r'./导出的图片/all_label.png', dpi=800)\n",
    "plt.show()"
   ]
  },
  {
   "cell_type": "code",
   "execution_count": null,
   "metadata": {},
   "outputs": [],
   "source": []
  },
  {
   "cell_type": "code",
   "execution_count": null,
   "metadata": {},
   "outputs": [],
   "source": []
  },
  {
   "cell_type": "code",
   "execution_count": null,
   "metadata": {},
   "outputs": [],
   "source": []
  },
  {
   "cell_type": "code",
   "execution_count": null,
   "metadata": {},
   "outputs": [],
   "source": []
  },
  {
   "cell_type": "code",
   "execution_count": null,
   "metadata": {},
   "outputs": [],
   "source": []
  },
  {
   "cell_type": "code",
   "execution_count": null,
   "metadata": {},
   "outputs": [],
   "source": []
  },
  {
   "cell_type": "code",
   "execution_count": null,
   "metadata": {},
   "outputs": [],
   "source": []
  },
  {
   "cell_type": "code",
   "execution_count": null,
   "metadata": {},
   "outputs": [],
   "source": []
  },
  {
   "cell_type": "code",
   "execution_count": 24,
   "metadata": {},
   "outputs": [],
   "source": [
    "from sklearn.metrics.pairwise import rbf_kernel"
   ]
  },
  {
   "cell_type": "code",
   "execution_count": 33,
   "metadata": {},
   "outputs": [],
   "source": [
    "# def fancy_dendrogram(*args, **kwargs):\n",
    "#     max_d = kwargs.pop('max_d', None)\n",
    "#     if max_d and 'color_threshold' not in kwargs:\n",
    "#         kwargs['color_threshold'] = max_d\n",
    "#     annotate_above = kwargs.pop('annotate_above', 0)\n",
    "#     ddata = dendrogram(*args, **kwargs)\n",
    "#     if not kwargs.get('no_plot', False):\n",
    "#         plt.title('Hierarchical Clustering Dendrogram (truncated)')\n",
    "#         plt.xlabel('sample index or (cluster size)')\n",
    "#         plt.ylabel('distance')\n",
    "#         for i, d, c in zip(ddata['icoord'], ddata['dcoord'], ddata['color_list']):\n",
    "#             x = 0.5 * sum(i[1:3])\n",
    "#             y = d[1]\n",
    "#             if y > annotate_above:\n",
    "#                 plt.plot(x, y, 'o', c=c)\n",
    "#                 plt.annotate(\"%.3g\" % y, (x, y), xytext=(0, -5),\n",
    "#                              textcoords='offset points',\n",
    "#                              va='top', ha='center')\n",
    "#         if max_d:\n",
    "#             plt.axhline(y=max_d, c='k')\n",
    "#     return ddata"
   ]
  },
  {
   "cell_type": "code",
   "execution_count": 34,
   "metadata": {},
   "outputs": [],
   "source": [
    "# arr = np.array(all_mat)\n",
    "# arr = pd.DataFrame(arr)\n",
    "# rbf =  rbf_kernel(arr,gamma=0.2)\n",
    "# Z = linkage(rbf, method ='ward')#,metric=rbf)#('euclidean')"
   ]
  },
  {
   "cell_type": "code",
   "execution_count": 35,
   "metadata": {},
   "outputs": [
    {
     "data": {
      "image/png": "[encoded data removed]",
      "text/plain": [
       "<Figure size 432x288 with 1 Axes>"
      ]
     },
     "metadata": {
      "needs_background": "light"
     },
     "output_type": "display_data"
    }
   ],
   "source": [
    "# figure1 = (fancy_dendrogram(\n",
    "#     Z,\n",
    "#     labels = all_key,\n",
    "#     truncate_mode='lastp',\n",
    "#     p=2000,\n",
    "#     leaf_rotation=90.,\n",
    "#     leaf_font_size=2.2,\n",
    "#     show_contracted=True,\n",
    "#     annotate_above=10,\n",
    "#     max_d= 2.4,  # plot a horizontal cut-off line\n",
    "# ))"
   ]
  },
  {
   "cell_type": "code",
   "execution_count": 25,
   "metadata": {},
   "outputs": [
    {
     "name": "stdout",
     "output_type": "stream",
     "text": [
      "[6.770120323749862, 5.059561689795608, 4.160075977113753, 3.708823520485043, 3.354344557680815, 3.1615294753966365, 2.9404805755538574, 2.8164373677939363, 2.660272629562456, 2.541208534343996, 2.4501808661079663, 2.377721513245435, 2.377207473214441, 3.20360672013206, 3.100739337917699, 3.127996464584754, 3.050886509310386, 3.082388398298216, 3.0360352136883866, 2.9829394101720603, 2.970765418592197, 2.9076733698490718, 2.8825432308733254]\n"
     ]
    }
   ],
   "source": [
    "arr = np.array(all_mat)\n",
    "# r, c = arr.shape\n",
    "# num_clusters, indices = hierarchy_cluster(arr)\n",
    "# for k, ind in enumerate(indices):\n",
    "#     lab = []\n",
    "#     for ttt in ind:\n",
    "#         lab.append(mat_key[ttt])\n",
    "\n",
    "\n",
    "\n",
    "arr = pd.DataFrame(arr)\n",
    "# 利用scipy包进行层次聚类\n",
    "\n",
    "# lp = laplacian_kernel(arr,gamma=0.05)\n",
    "rbf =  rbf_kernel(arr,gamma=0.5)\n",
    "Z = linkage(rbf, method ='ward')#,metric=rbf)#('euclidean')\n",
    "\n",
    "cluster_n = [2,3,4,5,6,7,8,9,10,11,12,13,14,15,16,17,18,19,20,21,22,23,24]\n",
    "silhouette_avg = []\n",
    "for i in cluster_n:\n",
    "    cluster = sch.fcluster(Z,t=i,criterion='maxclust') \n",
    "    silhouette_avg.append(davies_bouldin_score(all_mat, cluster))\n",
    "print (silhouette_avg)"
   ]
  },
  {
   "cell_type": "code",
   "execution_count": 26,
   "metadata": {},
   "outputs": [
    {
     "data": {
      "image/png": "[encoded data removed]",
      "text/plain": [
       "<Figure size 432x288 with 1 Axes>"
      ]
     },
     "metadata": {
      "needs_background": "light"
     },
     "output_type": "display_data"
    }
   ],
   "source": [
    "import matplotlib.pyplot as plt\n",
    "from pylab import *                                 #支持中文\n",
    "mpl.rcParams['font.sans-serif'] = ['SimHei']\n",
    "\n",
    "# distances = [8,9,10,11,12,13,14,15,16]\n",
    "# cluster_n = [2,3,4,5,6,7,8,9,10,11,12,13,14,15,16,17,18,19,20,21]\n",
    "\n",
    "# dbi_list = [1622.4592050715905, 1502.149736283232, 1469.7160379962177, 1370.619858904026, 1246.7293342334567, 684.668871309834, 802.5160147681532, 1144.8552821387746, 1081.5971861525102]\n",
    "\n",
    "plt.plot(cluster_n, silhouette_avg, marker='o', mec='r', mfc='w',label=u'Davies-BouldinIndex曲线图')\n",
    "plt.legend()  # 让图例生效\n",
    "# plt.xticks(distance, names, rotation=45)\n",
    "# plt.margins(0)\n",
    "plt.subplots_adjust(bottom=0.15)\n",
    "plt.xlabel(u\"聚类数\") #X轴标签\n",
    "plt.ylabel(\"Davies Bouldin Index指数值\") #Y轴标签\n",
    "plt.title(\"Davies Bouldin Index指数\") #标题\n",
    "plt.savefig(r'./导出的图片/办公室/DBI.pdf',dpi=300,bbox_inches = 'tight')\n",
    "plt.savefig(r'./导出的图片/办公室/DBI.png',dpi=300,bbox_inches = 'tight')\n",
    "\n",
    "plt.show()"
   ]
  },
  {
   "cell_type": "code",
   "execution_count": 35,
   "metadata": {},
   "outputs": [],
   "source": [
    "cluster_result = sch.fcluster(Z,t=14,criterion='maxclust') \n",
    "clustering_dict = dict(zip(all_key,cluster_result))"
   ]
  },
  {
   "cell_type": "code",
   "execution_count": 36,
   "metadata": {},
   "outputs": [
    {
     "data": {
      "text/plain": [
       "{'plant': 6,\n",
       " 'tree': 6,\n",
       " 'girl': 14,\n",
       " 'countertop': 6,\n",
       " 'room': 6,\n",
       " 'kitchen': 6,\n",
       " 'design': 6,\n",
       " 'table': 6,\n",
       " 'furniture': 6,\n",
       " 'flooring': 6,\n",
       " 'office': 6,\n",
       " 'ceiling': 6,\n",
       " 'classroom': 6,\n",
       " 'desk': 6,\n",
       " 'job': 6,\n",
       " 'area': 13,\n",
       " 'city': 13,\n",
       " 'skyscraper': 6,\n",
       " 'building': 6,\n",
       " 'metropolis': 6,\n",
       " 'condominium': 6,\n",
       " 'skyline': 6,\n",
       " 'block': 6,\n",
       " 'use': 12,\n",
       " 'window': 6,\n",
       " 'estate': 6,\n",
       " 'daylighting': 6,\n",
       " 'space': 6,\n",
       " 'street': 6,\n",
       " 'road': 6,\n",
       " 'sidewalk': 6,\n",
       " 'vehicle': 2,\n",
       " 'art': 6,\n",
       " 'arts': 6,\n",
       " 'cafeteria': 6,\n",
       " 'restaurant': 6,\n",
       " 'court': 12,\n",
       " 'lobby': 6,\n",
       " 'property': 6,\n",
       " 'house': 14,\n",
       " 'architecture': 6,\n",
       " 'home': 14,\n",
       " 'structure': 6,\n",
       " 'facade': 6,\n",
       " 'hall': 6,\n",
       " 'chair': 6,\n",
       " 'floor': 6,\n",
       " 'wood': 6,\n",
       " 'sports': 6,\n",
       " 'billiards': 6,\n",
       " 'games': 12,\n",
       " 'pool': 6,\n",
       " 'wall': 6,\n",
       " 'hardwood': 6,\n",
       " 'plywood': 6,\n",
       " 'stain': 6,\n",
       " 'apartment': 14,\n",
       " 'communication': 6,\n",
       " 'conversation': 6,\n",
       " 'sitting': 12,\n",
       " 'fun': 6,\n",
       " 'lighting': 6,\n",
       " 'accessory': 6,\n",
       " 'fixture': 6,\n",
       " 'lampshade': 6,\n",
       " 'decor': 6,\n",
       " 'yellow': 9,\n",
       " 'arm': 6,\n",
       " 'leisure': 6,\n",
       " 'sky': 6,\n",
       " 'cityscape': 6,\n",
       " 'angle': 6,\n",
       " 'car': 2,\n",
       " 'landmark': 6,\n",
       " 'town': 13,\n",
       " 'downtown': 6,\n",
       " 'technology': 12,\n",
       " 'device': 6,\n",
       " 'balcony': 6,\n",
       " 'loft': 6,\n",
       " 'clothing': 6,\n",
       " 'smile': 6,\n",
       " 'text': 6,\n",
       " 'font': 6,\n",
       " 'material': 6,\n",
       " 'paper': 6,\n",
       " 'service': 12,\n",
       " 'product': 12,\n",
       " 'tap': 6,\n",
       " 'sink': 6,\n",
       " 'couch': 6,\n",
       " 'comfort': 6,\n",
       " 'roof': 6,\n",
       " 'daytime': 6,\n",
       " 'line': 12,\n",
       " 'meal': 1,\n",
       " 'dish': 6,\n",
       " 'food': 6,\n",
       " 'cuisine': 6,\n",
       " 'lunch': 1,\n",
       " 'brunch': 1,\n",
       " 'breakfast': 1,\n",
       " 'appetizer': 6,\n",
       " 'bicycle': 6,\n",
       " 'wheel': 6,\n",
       " 'equipment': 6,\n",
       " 'cycling': 6,\n",
       " 'door': 6,\n",
       " 'brand': 12,\n",
       " 'exhibition': 6,\n",
       " 'frame': 6,\n",
       " 'orange': 9,\n",
       " 'bed': 6,\n",
       " 'mattress': 6,\n",
       " 'glass': 6,\n",
       " 'bathroom': 6,\n",
       " 'shower': 6,\n",
       " 'tile': 6,\n",
       " 'plan': 12,\n",
       " 'square': 6,\n",
       " 'store': 6,\n",
       " 'advertising': 6,\n",
       " 'signage': 6,\n",
       " 'machine': 6,\n",
       " 'computer': 6,\n",
       " 'cabinetry': 6,\n",
       " 'classique': 6,\n",
       " 'handrail': 6,\n",
       " 'stairs': 6,\n",
       " 'electronics': 6,\n",
       " 'recreation': 6,\n",
       " 'music': 6,\n",
       " 'audio': 6,\n",
       " 'performance': 12,\n",
       " 'café': 6,\n",
       " 'bedroom': 14,\n",
       " 'dormitory': 6,\n",
       " 'shelving': 6,\n",
       " 'shelf': 6,\n",
       " 'bookcase': 6,\n",
       " 'courtyard': 6,\n",
       " 'backyard': 6,\n",
       " 'patio': 6,\n",
       " 'sunlounger': 6,\n",
       " 'multimedia': 6,\n",
       " 'grass': 6,\n",
       " 'houseplant': 6,\n",
       " 'outerwear': 6,\n",
       " 'blue': 9,\n",
       " 'leaf': 6,\n",
       " 'flowerpot': 6,\n",
       " 'flower': 6,\n",
       " 'garden': 6,\n",
       " 'shrub': 6,\n",
       " 'landscaping': 6,\n",
       " 'mammal': 6,\n",
       " 'vertebrate': 6,\n",
       " 'sea': 5,\n",
       " 'horizon': 6,\n",
       " 'cloud': 6,\n",
       " 'coast': 6,\n",
       " 'headquarters': 6,\n",
       " 'suite': 6,\n",
       " 'vacation': 6,\n",
       " 'factory': 6,\n",
       " 'photograph': 6,\n",
       " 'photography': 6,\n",
       " 'snapshot': 6,\n",
       " 'happiness': 6,\n",
       " 'water': 6,\n",
       " 'reflection': 6,\n",
       " 'audience': 6,\n",
       " 'crowd': 6,\n",
       " 'retail': 6,\n",
       " 'business': 12,\n",
       " 'tourism': 6,\n",
       " 'team': 11,\n",
       " 'stage': 12,\n",
       " 'night': 7,\n",
       " 'convention': 6,\n",
       " 'event': 6,\n",
       " 'covering': 6,\n",
       " 'deck': 6,\n",
       " 'white': 8,\n",
       " 'sign': 6,\n",
       " 'monochrome': 6,\n",
       " 'exterior': 6,\n",
       " 'appliance': 6,\n",
       " 'meeting': 6,\n",
       " 'piano': 6,\n",
       " 'keyboard': 6,\n",
       " 'instrument': 4,\n",
       " 'pianist': 6,\n",
       " 'greenhouse': 6,\n",
       " 'attraction': 6,\n",
       " 'gallery': 6,\n",
       " 'museum': 6,\n",
       " 'transport': 12,\n",
       " 'stock': 6,\n",
       " 'track': 12,\n",
       " 'train': 6,\n",
       " 'floristry': 6,\n",
       " 'seminar': 3,\n",
       " 'conference': 6,\n",
       " 'lecture': 6,\n",
       " 'energy': 6,\n",
       " 'presentation': 6,\n",
       " 'auditorium': 6,\n",
       " 'brick': 6,\n",
       " 'translucency': 6,\n",
       " 'treatment': 6,\n",
       " 'metal': 6,\n",
       " 'black': 8,\n",
       " 'infrastructure': 12,\n",
       " 'play': 12,\n",
       " 'number': 6,\n",
       " 'numbering': 6,\n",
       " 'symbol': 6,\n",
       " 'circle': 6,\n",
       " 'part': 12,\n",
       " 'collaboration': 6,\n",
       " 'behavior': 6,\n",
       " 'cup': 6,\n",
       " 'tableware': 6,\n",
       " 'tea': 6,\n",
       " 'espresso': 6,\n",
       " 'coffee': 6,\n",
       " 'saucer': 6,\n",
       " 'spoon': 6,\n",
       " 'venue': 6,\n",
       " 'shadow': 6,\n",
       " 'light': 6,\n",
       " 'green': 6,\n",
       " 'field': 12,\n",
       " 'biome': 6,\n",
       " 'meadow': 6,\n",
       " 'lawn': 6,\n",
       " 'worker': 6,\n",
       " 'glasses': 6,\n",
       " 'care': 6,\n",
       " 'eyewear': 6,\n",
       " 'flora': 6,\n",
       " 'spring': 10,\n",
       " 'arranging': 6,\n",
       " 'speaking': 6,\n",
       " 'training': 6,\n",
       " 'management': 12,\n",
       " 'course': 12,\n",
       " 'boutique': 6,\n",
       " 'beverage': 6,\n",
       " 'studio': 6,\n",
       " 'recording': 6,\n",
       " 'percussion': 6,\n",
       " 'engineer': 6,\n",
       " 'headphones': 6,\n",
       " 'microphone': 6,\n",
       " 'salon': 6,\n",
       " 'bar': 6,\n",
       " 'tavern': 6,\n",
       " 'pub': 6,\n",
       " 'painting': 6,\n",
       " 'landscape': 6,\n",
       " 'interaction': 6,\n",
       " 'drink': 6,\n",
       " 'musician': 6,\n",
       " 'concert': 6,\n",
       " 'instruments': 4,\n",
       " 'refrigerator': 6,\n",
       " 'standing': 12,\n",
       " 'wardrobe': 6,\n",
       " 'receptionist': 6,\n",
       " 'logo': 6,\n",
       " 'hanger': 6,\n",
       " 'leg': 6,\n",
       " 'shoulder': 6,\n",
       " 'joint': 6,\n",
       " 'thigh': 6,\n",
       " 'column': 6,\n",
       " 'arcade': 6,\n",
       " 'arch': 6,\n",
       " 'marketplace': 12,\n",
       " 'picnic': 6,\n",
       " 'fitness': 6,\n",
       " 'yoga': 6,\n",
       " 'exercise': 6,\n",
       " 'darkness': 6,\n",
       " 'electricity': 6,\n",
       " 'entertainment': 6,\n",
       " 'iron': 6,\n",
       " 'library': 6,\n",
       " 'winter': 10,\n",
       " 'fence': 6,\n",
       " 'locker': 6,\n",
       " 'learning': 6,\n",
       " 'dinner': 1,\n",
       " 'supper': 1,\n",
       " 'canopy': 6,\n",
       " 'shade': 6,\n",
       " 'hotel': 6,\n",
       " 'community': 13,\n",
       " 'student': 6,\n",
       " 'mall': 6,\n",
       " 'cook': 6,\n",
       " 'cooking': 6,\n",
       " 'chef': 6,\n",
       " 'customer': 12,\n",
       " 'ceremony': 6,\n",
       " 'wedding': 6,\n",
       " 'turquoise': 6,\n",
       " 'education': 6,\n",
       " 'workshop': 3,\n",
       " 'plastic': 6,\n",
       " 'recliner': 6,\n",
       " 'coffeemaker': 6,\n",
       " 'organization': 11,\n",
       " 'tablecloth': 6,\n",
       " 'accessories': 6,\n",
       " 'vegetation': 6,\n",
       " 'yard': 6,\n",
       " 'hand': 12,\n",
       " 'finger': 6,\n",
       " 'nail': 6,\n",
       " 'herb': 6,\n",
       " 'gardening': 6,\n",
       " 'group': 11,\n",
       " 'pedestrian': 6,\n",
       " 'hearth': 6,\n",
       " 'produce': 12,\n",
       " 'baluster': 6,\n",
       " 'brickwork': 6,\n",
       " 'evening': 7,\n",
       " 'supply': 12,\n",
       " 'suburb': 6,\n",
       " 'trailer': 6,\n",
       " 'drawer': 6,\n",
       " 'gym': 6,\n",
       " 'case': 12,\n",
       " 'mural': 6,\n",
       " 'bridge': 6,\n",
       " 'link': 6,\n",
       " 'industry': 12,\n",
       " 'elevation': 6,\n",
       " 'artwork': 6,\n",
       " 'paint': 6,\n",
       " 'serpent': 6,\n",
       " 'illustration': 6,\n",
       " 'calligraphy': 6,\n",
       " 'graphics': 6,\n",
       " 'reptile': 6,\n",
       " 'school': 6,\n",
       " 'class': 12,\n",
       " 'ladder': 6,\n",
       " 'fireplace': 6,\n",
       " 'stove': 6,\n",
       " 'siding': 6,\n",
       " 'toilet': 6,\n",
       " 'seat': 6,\n",
       " 'utility': 6,\n",
       " 'phenomenon': 6,\n",
       " 'monitor': 6,\n",
       " 'blackboard': 6,\n",
       " 'mother': 14,\n",
       " 'child': 14,\n",
       " 'lamp': 6,\n",
       " 'alley': 6,\n",
       " 'warehouse': 6,\n",
       " 'pilates': 6,\n",
       " 'hospital': 6,\n",
       " 'resort': 6,\n",
       " 'graffiti': 6,\n",
       " 'dessert': 6,\n",
       " 'coffeehouse': 6,\n",
       " 'liqueur': 6,\n",
       " 'pergola': 6,\n",
       " 'awning': 6,\n",
       " 'recipe': 6,\n",
       " 'shopping': 6,\n",
       " 'closet': 6,\n",
       " 'cabinet': 6,\n",
       " 'drawers': 6,\n",
       " 'porch': 6,\n",
       " 'atmosphere': 6,\n",
       " 'wallpaper': 6,\n",
       " 'world': 12,\n",
       " 'screenshot': 6,\n",
       " 'bumper': 6,\n",
       " 'system': 12,\n",
       " 'stem': 6,\n",
       " 'lumber': 6,\n",
       " 'plank': 6,\n",
       " 'up': 12,\n",
       " 'moisture': 6,\n",
       " 'wine': 6,\n",
       " 'fashion': 6,\n",
       " 'suit': 6,\n",
       " 'collection': 6,\n",
       " 'underwater': 6,\n",
       " 'wave': 6,\n",
       " 'ocean': 5,\n",
       " 'biology': 6,\n",
       " 'organism': 6,\n",
       " 'dress': 6,\n",
       " 'friendship': 6,\n",
       " 'gadget': 6,\n",
       " 'pink': 9,\n",
       " 'belladonna': 6,\n",
       " 'petal': 6,\n",
       " 'family': 14,\n",
       " 'stall': 6,\n",
       " 'engineering': 6,\n",
       " 'network': 12,\n",
       " 'trader': 6,\n",
       " 'snow': 6,\n",
       " 'drawing': 6,\n",
       " 'production': 12,\n",
       " 'carpet': 6,\n",
       " 'government': 12,\n",
       " 'parliament': 6,\n",
       " 'plaza': 6,\n",
       " 'trademark': 6}"
      ]
     },
     "execution_count": 36,
     "metadata": {},
     "output_type": "execute_result"
    }
   ],
   "source": [
    "clustering_dict"
   ]
  },
  {
   "cell_type": "code",
   "execution_count": 37,
   "metadata": {},
   "outputs": [],
   "source": [
    "#构建字典\n",
    "dict_keys = {}\n",
    "for i in clustering_dict.values():\n",
    "    dict_keys[i] = []"
   ]
  },
  {
   "cell_type": "code",
   "execution_count": 41,
   "metadata": {},
   "outputs": [],
   "source": [
    "#将类别分门别类存入字典中\n",
    "keys_label = []      \n",
    "cluster_label = []\n",
    "for i in clustering_dict.keys():\n",
    "    keys_label.append(i)\n",
    "for i in clustering_dict.values():\n",
    "    cluster_label.append(i)\n",
    "\n",
    "total = []\n",
    "for i in range(0,len(keys_label)):\n",
    "    total.append([keys_label[i],cluster_label[i]])\n",
    "    \n",
    "for i in total:\n",
    "    for j in dict_keys.keys():\n",
    "        if i[1] == j:\n",
    "            dict_keys[j].append(i[0])"
   ]
  },
  {
   "cell_type": "code",
   "execution_count": 42,
   "metadata": {},
   "outputs": [
    {
     "name": "stdout",
     "output_type": "stream",
     "text": [
      "{6: ['plant', 'tree', 'countertop', 'room', 'kitchen', 'design', 'table', 'furniture', 'flooring', 'office', 'ceiling', 'classroom', 'desk', 'job', 'skyscraper', 'building', 'metropolis', 'condominium', 'skyline', 'block', 'window', 'estate', 'daylighting', 'space', 'street', 'road', 'sidewalk', 'art', 'arts', 'cafeteria', 'restaurant', 'lobby', 'property', 'architecture', 'structure', 'facade', 'hall', 'chair', 'floor', 'wood', 'sports', 'billiards', 'pool', 'wall', 'hardwood', 'plywood', 'stain', 'communication', 'conversation', 'fun', 'lighting', 'accessory', 'fixture', 'lampshade', 'decor', 'arm', 'leisure', 'sky', 'cityscape', 'angle', 'landmark', 'downtown', 'device', 'balcony', 'loft', 'clothing', 'smile', 'text', 'font', 'material', 'paper', 'tap', 'sink', 'couch', 'comfort', 'roof', 'daytime', 'dish', 'food', 'cuisine', 'appetizer', 'bicycle', 'wheel', 'equipment', 'cycling', 'door', 'exhibition', 'frame', 'bed', 'mattress', 'glass', 'bathroom', 'shower', 'tile', 'square', 'store', 'advertising', 'signage', 'machine', 'computer', 'cabinetry', 'classique', 'handrail', 'stairs', 'electronics', 'recreation', 'music', 'audio', 'café', 'dormitory', 'shelving', 'shelf', 'bookcase', 'courtyard', 'backyard', 'patio', 'sunlounger', 'multimedia', 'grass', 'houseplant', 'outerwear', 'leaf', 'flowerpot', 'flower', 'garden', 'shrub', 'landscaping', 'mammal', 'vertebrate', 'horizon', 'cloud', 'coast', 'headquarters', 'suite', 'vacation', 'factory', 'photograph', 'photography', 'snapshot', 'happiness', 'water', 'reflection', 'audience', 'crowd', 'retail', 'tourism', 'convention', 'event', 'covering', 'deck', 'sign', 'monochrome', 'exterior', 'appliance', 'meeting', 'piano', 'keyboard', 'pianist', 'greenhouse', 'attraction', 'gallery', 'museum', 'stock', 'train', 'floristry', 'conference', 'lecture', 'energy', 'presentation', 'auditorium', 'brick', 'translucency', 'treatment', 'metal', 'number', 'numbering', 'symbol', 'circle', 'collaboration', 'behavior', 'cup', 'tableware', 'tea', 'espresso', 'coffee', 'saucer', 'spoon', 'venue', 'shadow', 'light', 'green', 'biome', 'meadow', 'lawn', 'worker', 'glasses', 'care', 'eyewear', 'flora', 'arranging', 'speaking', 'training', 'boutique', 'beverage', 'studio', 'recording', 'percussion', 'engineer', 'headphones', 'microphone', 'salon', 'bar', 'tavern', 'pub', 'painting', 'landscape', 'interaction', 'drink', 'musician', 'concert', 'refrigerator', 'wardrobe', 'receptionist', 'logo', 'hanger', 'leg', 'shoulder', 'joint', 'thigh', 'column', 'arcade', 'arch', 'picnic', 'fitness', 'yoga', 'exercise', 'darkness', 'electricity', 'entertainment', 'iron', 'library', 'fence', 'locker', 'learning', 'canopy', 'shade', 'hotel', 'student', 'mall', 'cook', 'cooking', 'chef', 'ceremony', 'wedding', 'turquoise', 'education', 'plastic', 'recliner', 'coffeemaker', 'tablecloth', 'accessories', 'vegetation', 'yard', 'finger', 'nail', 'herb', 'gardening', 'pedestrian', 'hearth', 'baluster', 'brickwork', 'suburb', 'trailer', 'drawer', 'gym', 'mural', 'bridge', 'link', 'elevation', 'artwork', 'paint', 'serpent', 'illustration', 'calligraphy', 'graphics', 'reptile', 'school', 'ladder', 'fireplace', 'stove', 'siding', 'toilet', 'seat', 'utility', 'phenomenon', 'monitor', 'blackboard', 'lamp', 'alley', 'warehouse', 'pilates', 'hospital', 'resort', 'graffiti', 'dessert', 'coffeehouse', 'liqueur', 'pergola', 'awning', 'recipe', 'shopping', 'closet', 'cabinet', 'drawers', 'porch', 'atmosphere', 'wallpaper', 'screenshot', 'bumper', 'stem', 'lumber', 'plank', 'moisture', 'wine', 'fashion', 'suit', 'collection', 'underwater', 'wave', 'biology', 'organism', 'dress', 'friendship', 'gadget', 'belladonna', 'petal', 'stall', 'engineering', 'trader', 'snow', 'drawing', 'carpet', 'parliament', 'plaza', 'trademark', 'plant', 'tree', 'countertop', 'room', 'kitchen', 'design', 'table', 'furniture', 'flooring', 'office', 'ceiling', 'classroom', 'desk', 'job', 'skyscraper', 'building', 'metropolis', 'condominium', 'skyline', 'block', 'window', 'estate', 'daylighting', 'space', 'street', 'road', 'sidewalk', 'art', 'arts', 'cafeteria', 'restaurant', 'lobby', 'property', 'architecture', 'structure', 'facade', 'hall', 'chair', 'floor', 'wood', 'sports', 'billiards', 'pool', 'wall', 'hardwood', 'plywood', 'stain', 'communication', 'conversation', 'fun', 'lighting', 'accessory', 'fixture', 'lampshade', 'decor', 'arm', 'leisure', 'sky', 'cityscape', 'angle', 'landmark', 'downtown', 'device', 'balcony', 'loft', 'clothing', 'smile', 'text', 'font', 'material', 'paper', 'tap', 'sink', 'couch', 'comfort', 'roof', 'daytime', 'dish', 'food', 'cuisine', 'appetizer', 'bicycle', 'wheel', 'equipment', 'cycling', 'door', 'exhibition', 'frame', 'bed', 'mattress', 'glass', 'bathroom', 'shower', 'tile', 'square', 'store', 'advertising', 'signage', 'machine', 'computer', 'cabinetry', 'classique', 'handrail', 'stairs', 'electronics', 'recreation', 'music', 'audio', 'café', 'dormitory', 'shelving', 'shelf', 'bookcase', 'courtyard', 'backyard', 'patio', 'sunlounger', 'multimedia', 'grass', 'houseplant', 'outerwear', 'leaf', 'flowerpot', 'flower', 'garden', 'shrub', 'landscaping', 'mammal', 'vertebrate', 'horizon', 'cloud', 'coast', 'headquarters', 'suite', 'vacation', 'factory', 'photograph', 'photography', 'snapshot', 'happiness', 'water', 'reflection', 'audience', 'crowd', 'retail', 'tourism', 'convention', 'event', 'covering', 'deck', 'sign', 'monochrome', 'exterior', 'appliance', 'meeting', 'piano', 'keyboard', 'pianist', 'greenhouse', 'attraction', 'gallery', 'museum', 'stock', 'train', 'floristry', 'conference', 'lecture', 'energy', 'presentation', 'auditorium', 'brick', 'translucency', 'treatment', 'metal', 'number', 'numbering', 'symbol', 'circle', 'collaboration', 'behavior', 'cup', 'tableware', 'tea', 'espresso', 'coffee', 'saucer', 'spoon', 'venue', 'shadow', 'light', 'green', 'biome', 'meadow', 'lawn', 'worker', 'glasses', 'care', 'eyewear', 'flora', 'arranging', 'speaking', 'training', 'boutique', 'beverage', 'studio', 'recording', 'percussion', 'engineer', 'headphones', 'microphone', 'salon', 'bar', 'tavern', 'pub', 'painting', 'landscape', 'interaction', 'drink', 'musician', 'concert', 'refrigerator', 'wardrobe', 'receptionist', 'logo', 'hanger', 'leg', 'shoulder', 'joint', 'thigh', 'column', 'arcade', 'arch', 'picnic', 'fitness', 'yoga', 'exercise', 'darkness', 'electricity', 'entertainment', 'iron', 'library', 'fence', 'locker', 'learning', 'canopy', 'shade', 'hotel', 'student', 'mall', 'cook', 'cooking', 'chef', 'ceremony', 'wedding', 'turquoise', 'education', 'plastic', 'recliner', 'coffeemaker', 'tablecloth', 'accessories', 'vegetation', 'yard', 'finger', 'nail', 'herb', 'gardening', 'pedestrian', 'hearth', 'baluster', 'brickwork', 'suburb', 'trailer', 'drawer', 'gym', 'mural', 'bridge', 'link', 'elevation', 'artwork', 'paint', 'serpent', 'illustration', 'calligraphy', 'graphics', 'reptile', 'school', 'ladder', 'fireplace', 'stove', 'siding', 'toilet', 'seat', 'utility', 'phenomenon', 'monitor', 'blackboard', 'lamp', 'alley', 'warehouse', 'pilates', 'hospital', 'resort', 'graffiti', 'dessert', 'coffeehouse', 'liqueur', 'pergola', 'awning', 'recipe', 'shopping', 'closet', 'cabinet', 'drawers', 'porch', 'atmosphere', 'wallpaper', 'screenshot', 'bumper', 'stem', 'lumber', 'plank', 'moisture', 'wine', 'fashion', 'suit', 'collection', 'underwater', 'wave', 'biology', 'organism', 'dress', 'friendship', 'gadget', 'belladonna', 'petal', 'stall', 'engineering', 'trader', 'snow', 'drawing', 'carpet', 'parliament', 'plaza', 'trademark'], 14: ['girl', 'house', 'home', 'apartment', 'bedroom', 'mother', 'child', 'family', 'girl', 'house', 'home', 'apartment', 'bedroom', 'mother', 'child', 'family'], 13: ['area', 'city', 'town', 'community', 'area', 'city', 'town', 'community'], 12: ['use', 'court', 'games', 'sitting', 'technology', 'service', 'product', 'line', 'brand', 'plan', 'performance', 'business', 'stage', 'transport', 'track', 'infrastructure', 'play', 'part', 'field', 'management', 'course', 'standing', 'marketplace', 'customer', 'hand', 'produce', 'supply', 'case', 'industry', 'class', 'world', 'system', 'up', 'network', 'production', 'government', 'use', 'court', 'games', 'sitting', 'technology', 'service', 'product', 'line', 'brand', 'plan', 'performance', 'business', 'stage', 'transport', 'track', 'infrastructure', 'play', 'part', 'field', 'management', 'course', 'standing', 'marketplace', 'customer', 'hand', 'produce', 'supply', 'case', 'industry', 'class', 'world', 'system', 'up', 'network', 'production', 'government'], 2: ['vehicle', 'car', 'vehicle', 'car'], 9: ['yellow', 'orange', 'blue', 'pink', 'yellow', 'orange', 'blue', 'pink'], 1: ['meal', 'lunch', 'brunch', 'breakfast', 'dinner', 'supper', 'meal', 'lunch', 'brunch', 'breakfast', 'dinner', 'supper'], 5: ['sea', 'ocean', 'sea', 'ocean'], 11: ['team', 'organization', 'group', 'team', 'organization', 'group'], 7: ['night', 'evening', 'night', 'evening'], 8: ['white', 'black', 'white', 'black'], 4: ['instrument', 'instruments', 'instrument', 'instruments'], 3: ['seminar', 'workshop', 'seminar', 'workshop'], 10: ['spring', 'winter', 'spring', 'winter']}\n"
     ]
    }
   ],
   "source": [
    "print (dict_keys)"
   ]
  },
  {
   "cell_type": "code",
   "execution_count": 43,
   "metadata": {},
   "outputs": [],
   "source": [
    "'''\n",
    "该函数主要将每个图片所打的标签转化为聚类中的每个类的类名\n",
    "输入：聚类所得到的字典，需要转化的list\n",
    "输出：转化结果\n",
    "'''\n",
    "def list_revert_into_clustering(dict_result,revert_list):\n",
    "    cluster_id_list=[]\n",
    "    for j in revert_list:\n",
    "        temp = []\n",
    "        for k in j:\n",
    "            for i in dict_result.values():\n",
    "                if k in i:\n",
    "                    temp.append(list(dict_result.keys())[list(dict_result.values()).index(i)])\n",
    "        if temp == []:\n",
    "            continue\n",
    "        temp = set(temp)\n",
    "        cluster_id_list.append(list(temp))\n",
    "    return cluster_id_list"
   ]
  },
  {
   "cell_type": "code",
   "execution_count": 45,
   "metadata": {},
   "outputs": [],
   "source": [
    "coshared_cluster_list_result = list_revert_into_clustering(dict_keys,coshared_ini)\n",
    "open_cluster_list_result = list_revert_into_clustering(dict_keys,open_ini)\n",
    "all_result = coshared_cluster_list_result + open_cluster_list_result"
   ]
  },
  {
   "cell_type": "code",
   "execution_count": 46,
   "metadata": {},
   "outputs": [
    {
     "data": {
      "text/plain": [
       "1211"
      ]
     },
     "execution_count": 46,
     "metadata": {},
     "output_type": "execute_result"
    }
   ],
   "source": [
    "len(coshared_cluster_list_result)"
   ]
  },
  {
   "cell_type": "code",
   "execution_count": 47,
   "metadata": {},
   "outputs": [
    {
     "data": {
      "text/plain": [
       "343"
      ]
     },
     "execution_count": 47,
     "metadata": {},
     "output_type": "execute_result"
    }
   ],
   "source": [
    "len(open_cluster_list_result)"
   ]
  },
  {
   "cell_type": "code",
   "execution_count": 67,
   "metadata": {},
   "outputs": [],
   "source": [
    "def fre_itemsets(a,b,c,delta):# co shared 频繁项集其中delta表示阈值\n",
    "    co_length= len(a)\n",
    "    co_itemsets = frequent_itemsets(a, delta)\n",
    "    co_itemlist=list(co_itemsets)\n",
    "    co_frequentItem = [(item[0],item[1]/co_length) for item in co_itemlist]\n",
    "    print (len (co_frequentItem))\n",
    "\n",
    "    # open place 频繁项集\n",
    "    open_length= len(b)\n",
    "    open_itemsets = frequent_itemsets(b, delta)\n",
    "    open_itemlist=list(open_itemsets)\n",
    "    open_frequentItem = [(item[0],item[1]/open_length) for item in open_itemlist]\n",
    "    print (len (open_frequentItem))\n",
    "\n",
    "    # open place 和 co shared 频繁项集\n",
    "    length= len(c)\n",
    "    itemsets = frequent_itemsets(c, delta)\n",
    "    itemlist=list(itemsets)\n",
    "    frequentItem = [(item[0],item[1]/length) for item in itemlist]\n",
    "    print (len (frequentItem))\n",
    "    return co_frequentItem,open_frequentItem,frequentItem"
   ]
  },
  {
   "cell_type": "code",
   "execution_count": 68,
   "metadata": {},
   "outputs": [
    {
     "name": "stdout",
     "output_type": "stream",
     "text": [
      "77\n",
      "34\n",
      "85\n"
     ]
    }
   ],
   "source": [
    "coshared_fre_result, open_fre_result, all_fre_result = fre_itemsets(coshared_cluster_list_result,open_cluster_list_result,all_result,0.001)"
   ]
  },
  {
   "cell_type": "code",
   "execution_count": 69,
   "metadata": {},
   "outputs": [],
   "source": [
    "# co_frequent = list(frequent_itemsets(coshared_cluster_list_result,0.00015))\n",
    "# open_frequent = list(frequent_itemsets(open_cluster_list_result,0.00015))"
   ]
  },
  {
   "cell_type": "code",
   "execution_count": 70,
   "metadata": {},
   "outputs": [],
   "source": [
    "#根据support值排序\n",
    "def sortbysup(result):\n",
    "    n = len(result)\n",
    "    for i in range(n-1):\n",
    "        for j in range(n-i-1):\n",
    "            if result[j][1]<result[j+1][1]:\n",
    "                result[j],result[j+1] = result[j+1],result[j]\n",
    "#     print (\"result = \",result)\n",
    "    return result\n",
    "\n",
    "def sortbysup_1(result):\n",
    "    n = len(result)\n",
    "    for i in range(n-1):\n",
    "        for j in range(n-i-1):\n",
    "            if result[j][3]<result[j+1][3]:\n",
    "                result[j],result[j+1] = result[j+1],result[j]\n",
    "#     print (\"result = \",result)\n",
    "    return result   \n",
    "\n",
    "# 按照频繁项集长度排序\n",
    "def sortbylen(result):\n",
    "    n = len(result)\n",
    "    for i in range(n-1):\n",
    "        for j in range(n-i-1):\n",
    "            if len(result[j][0])>len(result[j+1][0]):\n",
    "                result[j],result[j+1] = result[j+1],result[j]\n",
    "#     print (\"result = \",result)\n",
    "    return result"
   ]
  },
  {
   "cell_type": "code",
   "execution_count": 71,
   "metadata": {},
   "outputs": [],
   "source": [
    "co_fre_sort = sortbysup(coshared_fre_result)\n",
    "open_fre_sort = sortbysup(open_fre_result)\n",
    "all_fre_sort = sortbysup(all_fre_result)"
   ]
  },
  {
   "cell_type": "code",
   "execution_count": 75,
   "metadata": {},
   "outputs": [
    {
     "name": "stdout",
     "output_type": "stream",
     "text": [
      "排序1：   [[frozenset({3, 12}), 0.01321, 0.00292, 4.53179], [frozenset({3, 12, 6}), 0.01321, 0.00292, 4.53179], [frozenset({13, 6}), 0.03799, 0.00875, 4.34297], [frozenset({13}), 0.03964, 0.01166, 3.39884], [frozenset({14}), 0.20644, 0.06414, 3.2186], [frozenset({14, 6}), 0.20644, 0.06414, 3.2186], [frozenset({2, 12}), 0.00826, 0.00292, 2.83237], [frozenset({3}), 0.0223, 0.00875, 2.54913], [frozenset({3, 6}), 0.0223, 0.00875, 2.54913], [frozenset({12, 13}), 0.01239, 0.00583, 2.12428], [frozenset({12, 13, 6}), 0.01239, 0.00583, 2.12428], [frozenset({2, 6}), 0.01817, 0.00875, 2.07707], [frozenset({2}), 0.01817, 0.01166, 1.5578], [frozenset({12, 6}), 0.18993, 0.12245, 1.55106], [frozenset({12}), 0.19158, 0.12536, 1.52816], [frozenset({6}), 0.9967, 0.99417, 1.00254], [frozenset({8, 12}), 0.0033, 0.00875, 0.37765], [frozenset({8, 12, 6}), 0.0033, 0.00875, 0.37765], [frozenset({8}), 0.01321, 0.04956, 0.26658], [frozenset({8, 6}), 0.01321, 0.04956, 0.26658], [frozenset({11}), 0.00495, 0.04373, 0.11329], [frozenset({11, 6}), 0.00495, 0.04373, 0.11329], [frozenset({8, 14}), 0.00165, 0.02624, 0.06294], [frozenset({8, 6, 14}), 0.00165, 0.02624, 0.06294]]\n",
      "================================================================================================\n",
      "排序2：    [[frozenset({8, 14}), 0.02624, 0.00165, 15.88776], [frozenset({8, 6, 14}), 0.02624, 0.00165, 15.88776], [frozenset({11}), 0.04373, 0.00495, 8.82653], [frozenset({11, 6}), 0.04373, 0.00495, 8.82653], [frozenset({8}), 0.04956, 0.01321, 3.75128], [frozenset({8, 6}), 0.04956, 0.01321, 3.75128], [frozenset({8, 12}), 0.00875, 0.0033, 2.64796], [frozenset({8, 12, 6}), 0.00875, 0.0033, 2.64796], [frozenset({6}), 0.99417, 0.9967, 0.99746], [frozenset({12}), 0.12536, 0.19158, 0.65438], [frozenset({12, 6}), 0.12245, 0.18993, 0.64472], [frozenset({2}), 0.01166, 0.01817, 0.64193], [frozenset({2, 6}), 0.00875, 0.01817, 0.48145], [frozenset({12, 13}), 0.00583, 0.01239, 0.47075], [frozenset({12, 13, 6}), 0.00583, 0.01239, 0.47075], [frozenset({3}), 0.00875, 0.0223, 0.39229], [frozenset({3, 6}), 0.00875, 0.0223, 0.39229], [frozenset({2, 12}), 0.00292, 0.00826, 0.35306], [frozenset({14}), 0.06414, 0.20644, 0.31069], [frozenset({14, 6}), 0.06414, 0.20644, 0.31069], [frozenset({13}), 0.01166, 0.03964, 0.29422], [frozenset({13, 6}), 0.00875, 0.03799, 0.23026], [frozenset({3, 12}), 0.00292, 0.01321, 0.22066], [frozenset({3, 12, 6}), 0.00292, 0.01321, 0.22066]]\n"
     ]
    }
   ],
   "source": [
    "# co_support = sortbysup(quchong(fre_item(preprocessing_A)))\n",
    "# open_support = sortbysup(quchong(fre_item(preprocessing_B)))\n",
    "# support = sortbysup(quchong(fre_item(preprocessing_A+preprocessing_B)))\n",
    "co_support=co_fre_sort\n",
    "open_support=open_fre_sort\n",
    "support = all_fre_sort\n",
    "\n",
    "\n",
    "fre_co = []\n",
    "for i in co_support:\n",
    "    fre_co.append(i[0])\n",
    "# print (fre_co)\n",
    "\n",
    "# print (\"======================================================================\")\n",
    "fre_open = []\n",
    "for i in open_support:\n",
    "    fre_open.append(i[0])\n",
    "# print (fre_open)\n",
    "\n",
    "# 找出两边都包含的itemsets\n",
    "ppp = [l for l in fre_co if l in fre_open]\n",
    "# print (ppp)\n",
    "\n",
    "a = []\n",
    "for i in ppp:\n",
    "    for j in co_support:\n",
    "        if i == j[0]:\n",
    "            a.append([i,j[1]])\n",
    "# print (a)\n",
    "\n",
    "b = []\n",
    "for i in ppp:\n",
    "    for j in open_support:\n",
    "        if i == j[0]:\n",
    "            b.append([i,j[1]])\n",
    "# print (b)\n",
    "\n",
    "co_contrast_ratio = []\n",
    "for i in range(0,len(ppp)):\n",
    "    co_contrast_ratio.append([ppp[i],round(a[i][1],5),round(b[i][1],5),round(a[i][1]/b[i][1],5)])\n",
    "    \n",
    "# 第一个表示a里面的support值 (coshared)，第二个表示b里面的support值（open plan office），第三个表示a/b的contrast值。\n",
    "# print (\"contrast ratio A > B = \",co_contrast_ratio)\n",
    "\n",
    "print (\"排序1：  \",sortbysup_1(co_contrast_ratio))\n",
    "\n",
    "open_contrast_ratio = []\n",
    "for i in range(0,len(ppp)):\n",
    "    open_contrast_ratio.append([ppp[i],round(b[i][1],5),round(a[i][1],5),round(b[i][1]/a[i][1],5)])#表示b/a的congtrast值\n",
    "# print (\"contrast ratio B > A = \",open_contrast_ratio)\n",
    "print('================================================================================================')\n",
    "print (\"排序2：   \",sortbysup_1(open_contrast_ratio))\n",
    "\n",
    "\n",
    "\n",
    "contrast_diff = []\n",
    "for i in range(0,len(ppp)):\n",
    "    contrast_diff.append([ppp[i],abs(round(a[i][1]-b[i][1],16))])\n",
    "# print (\"contrast different = \", contrast_diff)"
   ]
  },
  {
   "cell_type": "code",
   "execution_count": null,
   "metadata": {},
   "outputs": [],
   "source": []
  },
  {
   "cell_type": "code",
   "execution_count": null,
   "metadata": {},
   "outputs": [],
   "source": []
  },
  {
   "cell_type": "code",
   "execution_count": null,
   "metadata": {},
   "outputs": [],
   "source": []
  },
  {
   "cell_type": "code",
   "execution_count": null,
   "metadata": {},
   "outputs": [],
   "source": []
  },
  {
   "cell_type": "code",
   "execution_count": null,
   "metadata": {},
   "outputs": [],
   "source": []
  },
  {
   "cell_type": "code",
   "execution_count": null,
   "metadata": {},
   "outputs": [],
   "source": []
  },
  {
   "cell_type": "code",
   "execution_count": null,
   "metadata": {},
   "outputs": [],
   "source": []
  },
  {
   "cell_type": "code",
   "execution_count": null,
   "metadata": {},
   "outputs": [],
   "source": []
  },
  {
   "cell_type": "code",
   "execution_count": null,
   "metadata": {},
   "outputs": [],
   "source": []
  },
  {
   "cell_type": "code",
   "execution_count": null,
   "metadata": {},
   "outputs": [],
   "source": []
  },
  {
   "cell_type": "code",
   "execution_count": null,
   "metadata": {},
   "outputs": [],
   "source": []
  },
  {
   "cell_type": "code",
   "execution_count": null,
   "metadata": {},
   "outputs": [],
   "source": []
  },
  {
   "cell_type": "code",
   "execution_count": null,
   "metadata": {},
   "outputs": [],
   "source": []
  },
  {
   "cell_type": "code",
   "execution_count": null,
   "metadata": {},
   "outputs": [],
   "source": []
  },
  {
   "cell_type": "code",
   "execution_count": null,
   "metadata": {},
   "outputs": [],
   "source": []
  },
  {
   "cell_type": "code",
   "execution_count": null,
   "metadata": {},
   "outputs": [],
   "source": []
  },
  {
   "cell_type": "code",
   "execution_count": null,
   "metadata": {},
   "outputs": [],
   "source": []
  },
  {
   "cell_type": "code",
   "execution_count": null,
   "metadata": {},
   "outputs": [],
   "source": []
  },
  {
   "cell_type": "code",
   "execution_count": null,
   "metadata": {},
   "outputs": [],
   "source": []
  },
  {
   "cell_type": "code",
   "execution_count": null,
   "metadata": {},
   "outputs": [],
   "source": []
  },
  {
   "cell_type": "code",
   "execution_count": null,
   "metadata": {},
   "outputs": [],
   "source": []
  },
  {
   "cell_type": "code",
   "execution_count": null,
   "metadata": {},
   "outputs": [],
   "source": []
  },
  {
   "cell_type": "code",
   "execution_count": null,
   "metadata": {},
   "outputs": [],
   "source": []
  },
  {
   "cell_type": "code",
   "execution_count": null,
   "metadata": {},
   "outputs": [],
   "source": []
  },
  {
   "cell_type": "code",
   "execution_count": null,
   "metadata": {},
   "outputs": [],
   "source": []
  },
  {
   "cell_type": "code",
   "execution_count": 113,
   "metadata": {},
   "outputs": [
    {
     "name": "stdout",
     "output_type": "stream",
     "text": [
      "[0.17332233, 0.14340095, 0.11292338, 0.102160946, 0.098218665, 0.09041389, 0.087646015, 0.07883462, 0.057579294, 0.051997725, 0.05099181, 0.036105383, 0.031117095, 0.026949044, 0.026498169, 0.021356406, 0.01821286, 0.014595953]\n"
     ]
    }
   ],
   "source": [
    "arr = np.array(all_mat)\n",
    "# r, c = arr.shape\n",
    "# num_clusters, indices = hierarchy_cluster(arr)\n",
    "# for k, ind in enumerate(indices):\n",
    "#     lab = []\n",
    "#     for ttt in ind:\n",
    "#         lab.append(mat_key[ttt])\n",
    "\n",
    "arr = pd.DataFrame(arr)\n",
    "# 利用scipy包进行层次聚类\n",
    "# Z = linkage(arr, method ='average',metric='euclidean')\n",
    "\n",
    "rbf =  rbf_kernel(arr,gamma=-2.1)\n",
    "Z = linkage(rbf, method ='ward')#,metric=rbf)#('euclidean')\n",
    "\n",
    "# cluster = sch.fcluster(Z,t=5,criterion='maxclust') \n",
    "# print (len(cluster))\n",
    "# print (len(all_key))\n",
    "\n",
    "cluster_n = list(range(20))[2:]\n",
    "silhouette_avg = []\n",
    "for i in cluster_n:\n",
    "    cluster = sch.fcluster(Z,t=i,criterion='maxclust') \n",
    "    silhouette_avg.append(silhouette_score(all_mat, cluster,metric='euclidean'))\n",
    "print (silhouette_avg)\n",
    "\n",
    "# arr = pd.DataFrame(arr)\n",
    "# # 利用scipy包进行层次聚类\n",
    "# Z = linkage(arr, method ='ward',metric='euclidean')\n",
    "\n",
    "\n",
    "# cluster = sch.fcluster(Z,t=5,criterion='maxclust') \n",
    "# print (len(cluster))\n",
    "# print (len(all_key))\n",
    "\n",
    "# cluster_n = list(range(30))[2:]\n",
    "# silhouette_avg = []\n",
    "# for i in cluster_n:\n",
    "#     cluster = sch.fcluster(Z,t=i,criterion='maxclust') \n",
    "#     silhouette_avg.append(silhouette_score(all_mat, cluster,metric='euclidean'))\n",
    "# print (silhouette_avg)"
   ]
  },
  {
   "cell_type": "code",
   "execution_count": 114,
   "metadata": {},
   "outputs": [
    {
     "data": {
      "image/png": "[encoded data removed]",
      "text/plain": [
       "<Figure size 432x288 with 1 Axes>"
      ]
     },
     "metadata": {},
     "output_type": "display_data"
    }
   ],
   "source": [
    "import matplotlib.pyplot as plt\n",
    "from pylab import *                                 #支持中文\n",
    "mpl.rcParams['font.sans-serif'] = ['SimHei']\n",
    "\n",
    "# distances = [8,9,10,11,12,13,14,15,16]\n",
    "\n",
    "# dbi_list = [1622.4592050715905, 1502.149736283232, 1469.7160379962177, 1370.619858904026, 1246.7293342334567, 684.668871309834, 802.5160147681532, 1144.8552821387746, 1081.5971861525102]\n",
    "\n",
    "plt.plot(cluster_n, silhouette_avg, marker='o', mec='r', mfc='w',label=u'轮廓系数曲线图')\n",
    "plt.legend()  # 让图例生效\n",
    "# plt.xticks(distance, names, rotation=45)\n",
    "# plt.margins(0)\n",
    "plt.subplots_adjust(bottom=0.15)\n",
    "plt.xlabel(u\"聚类数\") #X轴标签\n",
    "plt.ylabel(\"轮廓系数\") #Y轴标签\n",
    "plt.title(\"轮廓系数\") #标题\n",
    "plt.savefig(r'./导出的图片/办公室/轮廓系数.pdf',dpi=300,bbox_inches = 'tight')\n",
    "plt.savefig(r'./导出的图片/办公室/轮廓系数.png',dpi=300,bbox_inches = 'tight')\n",
    "\n",
    "plt.show()"
   ]
  },
  {
   "cell_type": "code",
   "execution_count": null,
   "metadata": {},
   "outputs": [],
   "source": []
  },
  {
   "cell_type": "code",
   "execution_count": null,
   "metadata": {},
   "outputs": [],
   "source": []
  },
  {
   "cell_type": "code",
   "execution_count": null,
   "metadata": {},
   "outputs": [],
   "source": []
  },
  {
   "cell_type": "code",
   "execution_count": null,
   "metadata": {},
   "outputs": [],
   "source": []
  },
  {
   "cell_type": "code",
   "execution_count": null,
   "metadata": {},
   "outputs": [],
   "source": []
  },
  {
   "cell_type": "code",
   "execution_count": null,
   "metadata": {},
   "outputs": [],
   "source": []
  },
  {
   "cell_type": "code",
   "execution_count": null,
   "metadata": {},
   "outputs": [],
   "source": []
  },
  {
   "cell_type": "code",
   "execution_count": null,
   "metadata": {},
   "outputs": [],
   "source": []
  },
  {
   "cell_type": "code",
   "execution_count": null,
   "metadata": {},
   "outputs": [],
   "source": []
  },
  {
   "cell_type": "code",
   "execution_count": null,
   "metadata": {},
   "outputs": [],
   "source": []
  },
  {
   "cell_type": "code",
   "execution_count": null,
   "metadata": {},
   "outputs": [],
   "source": []
  },
  {
   "cell_type": "code",
   "execution_count": null,
   "metadata": {},
   "outputs": [],
   "source": []
  },
  {
   "cell_type": "code",
   "execution_count": null,
   "metadata": {},
   "outputs": [],
   "source": []
  },
  {
   "cell_type": "code",
   "execution_count": 191,
   "metadata": {},
   "outputs": [],
   "source": [
    "def fancy_dendrogram(*args, **kwargs):\n",
    "    max_d = kwargs.pop('max_d', None)\n",
    "    if max_d and 'color_threshold' not in kwargs:\n",
    "        kwargs['color_threshold'] = max_d\n",
    "    annotate_above = kwargs.pop('annotate_above', 0)\n",
    "    ddata = dendrogram(*args, **kwargs)\n",
    "    if not kwargs.get('no_plot', False):\n",
    "        plt.title('Hierarchical Clustering Dendrogram (truncated)')\n",
    "        plt.xlabel('sample index or (cluster size)')\n",
    "        plt.ylabel('distance')\n",
    "        for i, d, c in zip(ddata['icoord'], ddata['dcoord'], ddata['color_list']):\n",
    "            x = 0.5 * sum(i[1:3])\n",
    "            y = d[1]\n",
    "            if y > annotate_above:\n",
    "                plt.plot(x, y, 'o', c=c)\n",
    "                plt.annotate(\"%.3g\" % y, (x, y), xytext=(0, -5),\n",
    "                             textcoords='offset points',\n",
    "                             va='top', ha='center')\n",
    "        if max_d:\n",
    "            plt.axhline(y=max_d, c='k')\n",
    "    return ddata"
   ]
  },
  {
   "cell_type": "code",
   "execution_count": 192,
   "metadata": {},
   "outputs": [],
   "source": [
    "# 计算DBI指数\n",
    "def compute_s(i, x, clusters):\n",
    "    norm_c= len(clusters)\n",
    "    s = 0\n",
    "    for x in clusters:\n",
    "        s += distance.euclidean(x, clusters[i])\n",
    "    return s\n",
    "def compute_Rij(i, j, x, clusters, nc):\n",
    "    Rij = 0\n",
    "    try:\n",
    "        d = distance.euclidean(clusters[i],clusters[j])\n",
    "        Rij = (compute_s(i, x, clusters) + compute_s(j, x, clusters))/d\n",
    "    except:\n",
    "        Rij = 0\n",
    "    return Rij\n",
    "def compute_R(i, x, clusters, nc): \n",
    "    list_r = []\n",
    "    for i in range(nc):\n",
    "        for j in range(nc):\n",
    "            if(i!=j):\n",
    "                temp = compute_Rij(i, j, x, clusters, nc)\n",
    "                list_r.append(temp)\n",
    "    return max(list_r)\n",
    "def compute_DB_index(x, clusters, nc):\n",
    "    sigma_R = 0.0\n",
    "    for i in range(nc):\n",
    "        sigma_R = sigma_R + compute_R(i, x, clusters, nc)\n",
    "    DB_index = float(sigma_R)/float(nc)\n",
    "    return DB_index"
   ]
  },
  {
   "cell_type": "code",
   "execution_count": 193,
   "metadata": {},
   "outputs": [
    {
     "name": "stdout",
     "output_type": "stream",
     "text": [
      "['night', 'evening', 'pink', 'blue', 'white', 'black', 'yellow', 'orange', 'vehicle', 'car', 'seminar', 'workshop', 'instrument', 'instruments', 'spring', 'winter', 'sea', 'ocean', 'estate', 'girl', 'child', 'mother', 'family', 'desk', 'brick', 'property', 'office', 'building', 'structure', 'house', 'home', 'apartment', 'bedroom', 'suburb', 'metropolis', 'pergola', 'patio', 'porch', 'road', 'alley', 'street', 'sidewalk', 'courtyard', 'plaza', 'downtown', 'community', 'area', 'city', 'town', 'hanger', 'bookcase', 'closet', 'drawer', 'drawers', 'monochrome', 'turquoise', 'flowerpot', 'lamp', 'lampshade', 'tablecloth', 'daytime', 'worker', 'receptionist', 'trailer', 'boutique', 'salon', 'plant', 'factory', 'headquarters', 'warehouse', 'retail', 'shopping', 'store', 'mall', 'bridge', 'pedestrian', 'train', 'bicycle', 'cycling', 'condominium', 'loft', 'graphics', 'studio', 'sports', 'leisure', 'recreation', 'percussion', 'music', 'entertainment', 'musician', 'piano', 'pianist', 'multimedia', 'audio', 'recording', 'glasses', 'eyewear', 'stain', 'keyboard', 'headphones', 'microphone', 'monitor', 'appliance', 'accessory', 'accessories', 'device', 'gadget', 'electronics', 'equipment', 'machine', 'computer', 'hardwood', 'iron', 'plywood', 'wood', 'lumber', 'tableware', 'mattress', 'carpet', 'outerwear', 'countertop', 'cabinetry', 'decor', 'wallpaper', 'wardrobe', 'dress', 'fashion', 'flooring', 'tile', 'furniture', 'clothing', 'symbol', 'suit', 'logo', 'trademark', 'stock', 'cabinet', 'parliament', 'plank', 'chair', 'seat', 'suite', 'snapshot', 'photograph', 'illustration', 'lighting', 'reflection', 'light', 'green', 'siding', 'shelf', 'paint', 'photography', 'mural', 'arts', 'painting', 'art', 'artwork', 'shelving', 'exhibition', 'collection', 'library', 'gallery', 'museum', 'text', 'font', 'block', 'landmark', 'stall', 'wheel', 'bumper', 'floor', 'balcony', 'gym', 'cafeteria', 'auditorium', 'space', 'couch', 'recliner', 'bed', 'sunlounger', 'room', 'hall', 'lobby', 'hotel', 'resort', 'pub', 'bar', 'tavern', 'coffeehouse', 'restaurant', 'café', 'arranging', 'square', 'covering', 'job', 'number', 'numbering', 'performance', 'games', 'play', 'stage', 'track', 'line', 'field', 'up', 'team', 'organization', 'group', 'part', 'course', 'class', 'world', 'training', 'classroom', 'student', 'school', 'learning', 'education', 'transport', 'infrastructure', 'service', 'network', 'plan', 'system', 'government', 'court', 'case', 'customer', 'management', 'marketplace', 'product', 'brand', 'technology', 'business', 'industry', 'tap', 'supply', 'production', 'use', 'produce', 'shoulder', 'leg', 'thigh', 'arm', 'hand', 'pool', 'table', 'deck', 'sign', 'drawing', 'speaking', 'sitting', 'standing', 'design', 'architecture', 'engineer', 'engineering', 'brickwork', 'facade', 'exterior', 'metal', 'plastic', 'material', 'paper', 'glass', 'arch', 'classique', 'baluster', 'frame', 'window', 'door', 'shade', 'awning', 'roof', 'canopy', 'ceiling', 'wall', 'fence', 'fitness', 'yoga', 'pilates', 'link', 'exercise', 'conversation', 'joint', 'collaboration', 'communication', 'interaction', 'stem', 'coast', 'underwater', 'sink', 'nail', 'billiards', 'arcade', 'friendship', 'vacation', 'wedding', 'tourism', 'advertising', 'audience', 'crowd', 'behavior', 'ceremony', 'phenomenon', 'wave', 'convention', 'lecture', 'attraction', 'presentation', 'meeting', 'conference', 'concert', 'event', 'venue', 'atmosphere', 'happiness', 'comfort', 'hospital', 'treatment', 'care', 'fun', 'smile', 'finger', 'ladder', 'handrail', 'stairs', 'yard', 'column', 'recipe', 'floristry', 'biology', 'serpent', 'organism', 'vertebrate', 'mammal', 'reptile', 'snow', 'translucency', 'darkness', 'petal', 'greenhouse', 'signage', 'landscaping', 'meadow', 'grass', 'backyard', 'flower', 'lawn', 'garden', 'gardening', 'herb', 'belladonna', 'houseplant', 'leaf', 'tree', 'shrub', 'cloud', 'biome', 'flora', 'vegetation', 'landscape', 'skyline', 'cityscape', 'shadow', 'sky', 'horizon', 'elevation', 'angle', 'circle', 'cuisine', 'chef', 'liqueur', 'wine', 'coffeemaker', 'tea', 'espresso', 'coffee', 'fixture', 'cup', 'saucer', 'spoon', 'graffiti', 'calligraphy', 'blackboard', 'skyscraper', 'dormitory', 'locker', 'trader', 'screenshot', 'daylighting', 'moisture', 'hearth', 'fireplace', 'stove', 'refrigerator', 'cook', 'cooking', 'shower', 'toilet', 'kitchen', 'bathroom', 'utility', 'energy', 'electricity', 'beverage', 'drink', 'food', 'water', 'picnic', 'supper', 'brunch', 'dinner', 'meal', 'lunch', 'breakfast', 'dish', 'appetizer', 'dessert']\n",
      "[178, 330, 404, 148, 183, 212, 66, 111, 31, 72, 202, 310, 191, 266, 242, 290, 157, 398, 25, 2, 362, 361, 407, 13, 208, 38, 10, 18, 42, 39, 41, 56, 135, 332, 19, 373, 142, 380, 29, 364, 28, 30, 140, 418, 75, 299, 15, 16, 74, 272, 139, 377, 334, 379, 185, 308, 150, 363, 64, 315, 93, 237, 270, 333, 248, 256, 0, 164, 161, 365, 173, 376, 120, 301, 338, 325, 200, 103, 106, 20, 79, 347, 250, 48, 68, 130, 252, 131, 287, 264, 189, 192, 144, 132, 251, 238, 240, 55, 190, 254, 255, 359, 187, 62, 316, 77, 403, 129, 105, 123, 124, 53, 288, 54, 47, 388, 223, 113, 415, 147, 3, 125, 65, 382, 269, 401, 393, 9, 117, 8, 80, 217, 394, 271, 419, 198, 378, 417, 389, 45, 356, 162, 167, 165, 345, 61, 170, 231, 232, 354, 138, 343, 166, 337, 33, 260, 32, 342, 137, 109, 395, 289, 195, 196, 82, 83, 22, 73, 408, 104, 385, 46, 78, 335, 34, 207, 27, 90, 312, 112, 143, 4, 44, 37, 298, 368, 259, 257, 258, 371, 35, 134, 243, 119, 181, 14, 215, 216, 133, 50, 214, 177, 199, 94, 233, 390, 176, 314, 324, 219, 247, 350, 383, 245, 12, 300, 349, 293, 309, 197, 213, 86, 410, 118, 386, 416, 36, 336, 305, 246, 280, 87, 108, 76, 174, 340, 88, 331, 414, 23, 327, 274, 273, 276, 67, 319, 51, 7, 182, 184, 413, 244, 59, 268, 6, 40, 253, 409, 329, 43, 186, 211, 311, 84, 85, 114, 279, 126, 328, 110, 24, 107, 297, 374, 92, 296, 11, 52, 291, 282, 283, 366, 339, 284, 58, 275, 220, 57, 262, 387, 160, 396, 89, 321, 49, 278, 402, 163, 307, 175, 121, 171, 172, 221, 306, 358, 397, 179, 204, 194, 206, 188, 203, 265, 180, 229, 381, 168, 91, 367, 210, 239, 60, 81, 320, 351, 127, 128, 318, 277, 375, 201, 399, 344, 400, 156, 155, 348, 412, 209, 285, 406, 193, 122, 154, 235, 145, 141, 151, 236, 152, 323, 322, 405, 146, 149, 1, 153, 159, 234, 241, 317, 261, 21, 70, 230, 69, 158, 341, 71, 218, 98, 304, 372, 392, 313, 224, 225, 226, 63, 222, 227, 228, 369, 346, 360, 17, 136, 292, 411, 384, 26, 391, 326, 352, 353, 267, 302, 303, 116, 355, 5, 115, 357, 205, 286, 249, 263, 97, 169, 281, 295, 100, 294, 95, 99, 101, 96, 102, 370]\n",
      "['g', 'g', 'g', 'g', 'g', 'g', 'g', 'g', 'g', 'g', 'g', 'g', 'g', 'g', 'g', 'g', 'g', 'g', 'g', 'g', 'g', 'g', 'g', 'g', 'g', 'g', 'g', 'g', 'g', 'g', 'g', 'g', 'g', 'g', 'g', 'g', 'g', 'g', 'g', 'g', 'g', 'g', 'g', 'g', 'g', 'g', 'g', 'g', 'g', 'g', 'g', 'g', 'g', 'g', 'g', 'g', 'g', 'g', 'g', 'g', 'g', 'g', 'g', 'g', 'g', 'g', 'g', 'g', 'g', 'g', 'g', 'g', 'g', 'g', 'g', 'g', 'g', 'g', 'g', 'g', 'g', 'g', 'g', 'g', 'g', 'g', 'g', 'g', 'g', 'g', 'g', 'g', 'g', 'g', 'g', 'g', 'g', 'g', 'g', 'g', 'g', 'g', 'g', 'g', 'g', 'g', 'g', 'g', 'g', 'g', 'g', 'g', 'g', 'g', 'g', 'g', 'g', 'g', 'g', 'g', 'g', 'g', 'g', 'g', 'g', 'g', 'g', 'g', 'g', 'g', 'g', 'g', 'g', 'g', 'g', 'g', 'g', 'g', 'g', 'g', 'g', 'g', 'g', 'g', 'g', 'g', 'g', 'g', 'g', 'g', 'g', 'g', 'g', 'g', 'g', 'g', 'g', 'g', 'g', 'g', 'g', 'g', 'g', 'g', 'g', 'g', 'g', 'g', 'g', 'g', 'g', 'g', 'g', 'g', 'g', 'g', 'g', 'g', 'g', 'g', 'g', 'g', 'g', 'g', 'g', 'g', 'g', 'g', 'g', 'g', 'g', 'g', 'g', 'g', 'g', 'g', 'g', 'g', 'g', 'g', 'g', 'g', 'g', 'g', 'g', 'g', 'g', 'g', 'g', 'g', 'g', 'g', 'g', 'g', 'g', 'g', 'g', 'g', 'g', 'g', 'g', 'g', 'g', 'g', 'g', 'g', 'g', 'g', 'g', 'g', 'g', 'g', 'g', 'g', 'g', 'g', 'g', 'g', 'g', 'g', 'g', 'g', 'g', 'g', 'g', 'g', 'g', 'g', 'g', 'g', 'g', 'g', 'g', 'g', 'g', 'g', 'g', 'g', 'g', 'g', 'g', 'g', 'g', 'g', 'g', 'g', 'g', 'g', 'g', 'g', 'g', 'g', 'g', 'g', 'g', 'g', 'g', 'g', 'g', 'g', 'g', 'g', 'g', 'g', 'g', 'g', 'g', 'g', 'g', 'g', 'g', 'g', 'g', 'g', 'g', 'g', 'g', 'g', 'g', 'g', 'g', 'g', 'g', 'g', 'g', 'g', 'g', 'g', 'g', 'g', 'g', 'g', 'g', 'g', 'g', 'g', 'g', 'g', 'g', 'g', 'g', 'g', 'g', 'g', 'g', 'g', 'g', 'g', 'g', 'g', 'g', 'g', 'g', 'g', 'g', 'g', 'g', 'g', 'g', 'g', 'g', 'g', 'g', 'g', 'g', 'g', 'g', 'g', 'g', 'g', 'g', 'g', 'g', 'g', 'g', 'g', 'g', 'g', 'g', 'g', 'g', 'g', 'g', 'g', 'g', 'g', 'g', 'g', 'g', 'g', 'g', 'g', 'g', 'g', 'g', 'g', 'g', 'g', 'g', 'g', 'g', 'g', 'g', 'g', 'g', 'g', 'g', 'g', 'g', 'g', 'g', 'g', 'g', 'g', 'g', 'g', 'g', 'g', 'g', 'g', 'g', 'g', 'g', 'g', 'g', 'g', 'g', 'g', 'g', 'g', 'g', 'g', 'g', 'g', 'g', 'g', 'g', 'g', 'g', 'g']\n"
     ]
    },
    {
     "ename": "ValueError",
     "evalue": "max() arg is an empty sequence",
     "output_type": "error",
     "traceback": [
      "\u001b[1;31m---------------------------------------------------------------------------\u001b[0m",
      "\u001b[1;31mValueError\u001b[0m                                Traceback (most recent call last)",
      "\u001b[1;32m<ipython-input-193-064b088ddffb>\u001b[0m in \u001b[0;36m<module>\u001b[1;34m()\u001b[0m\n\u001b[0;32m     81\u001b[0m \u001b[1;33m\u001b[0m\u001b[0m\n\u001b[0;32m     82\u001b[0m     \u001b[1;31m# DBI值\u001b[0m\u001b[1;33m\u001b[0m\u001b[1;33m\u001b[0m\u001b[0m\n\u001b[1;32m---> 83\u001b[1;33m     \u001b[0mindex_db_val\u001b[0m \u001b[1;33m=\u001b[0m \u001b[0mcompute_DB_index\u001b[0m\u001b[1;33m(\u001b[0m\u001b[0mall_mat\u001b[0m\u001b[1;33m,\u001b[0m \u001b[0mcentroids\u001b[0m\u001b[1;33m,\u001b[0m \u001b[0mn_clusters\u001b[0m\u001b[1;33m)\u001b[0m\u001b[1;33m\u001b[0m\u001b[0m\n\u001b[0m\u001b[0;32m     84\u001b[0m     \u001b[0mdbi_list\u001b[0m\u001b[1;33m.\u001b[0m\u001b[0mappend\u001b[0m\u001b[1;33m(\u001b[0m\u001b[0mindex_db_val\u001b[0m\u001b[1;33m)\u001b[0m\u001b[1;33m\u001b[0m\u001b[0m\n\u001b[0;32m     85\u001b[0m     \u001b[0mcluster_list\u001b[0m\u001b[1;33m.\u001b[0m\u001b[0mappend\u001b[0m\u001b[1;33m(\u001b[0m\u001b[0mn_clusters\u001b[0m\u001b[1;33m)\u001b[0m\u001b[1;33m\u001b[0m\u001b[0m\n",
      "\u001b[1;32m<ipython-input-192-582cd8cad995>\u001b[0m in \u001b[0;36mcompute_DB_index\u001b[1;34m(x, clusters, nc)\u001b[0m\n\u001b[0;32m     25\u001b[0m     \u001b[0msigma_R\u001b[0m \u001b[1;33m=\u001b[0m \u001b[1;36m0.0\u001b[0m\u001b[1;33m\u001b[0m\u001b[0m\n\u001b[0;32m     26\u001b[0m     \u001b[1;32mfor\u001b[0m \u001b[0mi\u001b[0m \u001b[1;32min\u001b[0m \u001b[0mrange\u001b[0m\u001b[1;33m(\u001b[0m\u001b[0mnc\u001b[0m\u001b[1;33m)\u001b[0m\u001b[1;33m:\u001b[0m\u001b[1;33m\u001b[0m\u001b[0m\n\u001b[1;32m---> 27\u001b[1;33m         \u001b[0msigma_R\u001b[0m \u001b[1;33m=\u001b[0m \u001b[0msigma_R\u001b[0m \u001b[1;33m+\u001b[0m \u001b[0mcompute_R\u001b[0m\u001b[1;33m(\u001b[0m\u001b[0mi\u001b[0m\u001b[1;33m,\u001b[0m \u001b[0mx\u001b[0m\u001b[1;33m,\u001b[0m \u001b[0mclusters\u001b[0m\u001b[1;33m,\u001b[0m \u001b[0mnc\u001b[0m\u001b[1;33m)\u001b[0m\u001b[1;33m\u001b[0m\u001b[0m\n\u001b[0m\u001b[0;32m     28\u001b[0m     \u001b[0mDB_index\u001b[0m \u001b[1;33m=\u001b[0m \u001b[0mfloat\u001b[0m\u001b[1;33m(\u001b[0m\u001b[0msigma_R\u001b[0m\u001b[1;33m)\u001b[0m\u001b[1;33m/\u001b[0m\u001b[0mfloat\u001b[0m\u001b[1;33m(\u001b[0m\u001b[0mnc\u001b[0m\u001b[1;33m)\u001b[0m\u001b[1;33m\u001b[0m\u001b[0m\n\u001b[0;32m     29\u001b[0m     \u001b[1;32mreturn\u001b[0m \u001b[0mDB_index\u001b[0m\u001b[1;33m\u001b[0m\u001b[0m\n",
      "\u001b[1;32m<ipython-input-192-582cd8cad995>\u001b[0m in \u001b[0;36mcompute_R\u001b[1;34m(i, x, clusters, nc)\u001b[0m\n\u001b[0;32m     21\u001b[0m                 \u001b[0mtemp\u001b[0m \u001b[1;33m=\u001b[0m \u001b[0mcompute_Rij\u001b[0m\u001b[1;33m(\u001b[0m\u001b[0mi\u001b[0m\u001b[1;33m,\u001b[0m \u001b[0mj\u001b[0m\u001b[1;33m,\u001b[0m \u001b[0mx\u001b[0m\u001b[1;33m,\u001b[0m \u001b[0mclusters\u001b[0m\u001b[1;33m,\u001b[0m \u001b[0mnc\u001b[0m\u001b[1;33m)\u001b[0m\u001b[1;33m\u001b[0m\u001b[0m\n\u001b[0;32m     22\u001b[0m                 \u001b[0mlist_r\u001b[0m\u001b[1;33m.\u001b[0m\u001b[0mappend\u001b[0m\u001b[1;33m(\u001b[0m\u001b[0mtemp\u001b[0m\u001b[1;33m)\u001b[0m\u001b[1;33m\u001b[0m\u001b[0m\n\u001b[1;32m---> 23\u001b[1;33m     \u001b[1;32mreturn\u001b[0m \u001b[0mmax\u001b[0m\u001b[1;33m(\u001b[0m\u001b[0mlist_r\u001b[0m\u001b[1;33m)\u001b[0m\u001b[1;33m\u001b[0m\u001b[0m\n\u001b[0m\u001b[0;32m     24\u001b[0m \u001b[1;32mdef\u001b[0m \u001b[0mcompute_DB_index\u001b[0m\u001b[1;33m(\u001b[0m\u001b[0mx\u001b[0m\u001b[1;33m,\u001b[0m \u001b[0mclusters\u001b[0m\u001b[1;33m,\u001b[0m \u001b[0mnc\u001b[0m\u001b[1;33m)\u001b[0m\u001b[1;33m:\u001b[0m\u001b[1;33m\u001b[0m\u001b[0m\n\u001b[0;32m     25\u001b[0m     \u001b[0msigma_R\u001b[0m \u001b[1;33m=\u001b[0m \u001b[1;36m0.0\u001b[0m\u001b[1;33m\u001b[0m\u001b[0m\n",
      "\u001b[1;31mValueError\u001b[0m: max() arg is an empty sequence"
     ]
    },
    {
     "data": {
      "image/png": "[encoded data removed]",
      "text/plain": [
       "<Figure size 432x288 with 1 Axes>"
      ]
     },
     "metadata": {},
     "output_type": "display_data"
    }
   ],
   "source": [
    "dbi_list = []\n",
    "cluster_list = []\n",
    "distances = [3,4,5,6,7,8,9,10,11,12,13]\n",
    "for distance_d in distances:\n",
    "    figure1 = (fancy_dendrogram(\n",
    "        Z,\n",
    "        labels = all_key,\n",
    "        truncate_mode='lastp',\n",
    "        p=2000,\n",
    "        leaf_rotation=90.,\n",
    "        leaf_font_size=2.2,\n",
    "        show_contracted=True,\n",
    "        annotate_above=10,\n",
    "        max_d= distance_d,  # plot a horizontal cut-off line\n",
    "    ))\n",
    "    values_figure = []\n",
    "    for fig in figure1.values():\n",
    "        values_figure.append(fig)\n",
    "\n",
    "    x_list = values_figure[2]\n",
    "    x_index = values_figure[3]\n",
    "    x_color = values_figure[4]\n",
    "    x_color.insert(0,x_color[0])\n",
    "    \n",
    "    print (x_list)\n",
    "    print (x_index)\n",
    "    print (x_color)\n",
    "    \n",
    "#     将不同cluster元素放一起（color_list）\n",
    "    clu = [(list(v)) for k,v in groupby(x_color)]\n",
    "    disp = []\n",
    "    a = 0\n",
    "    for strin in range(0,len(x_index)):\n",
    "        x_index[strin] = str(x_index[strin])   \n",
    "    for c in clu:\n",
    "        temp = []\n",
    "        for l in range(0,len(c)):\n",
    "            if a>len(x_color):\n",
    "                break\n",
    "            t = l+a\n",
    "            temp.append(x_index[t])\n",
    "        a += len(c)\n",
    "        disp.append(temp)  \n",
    "    \n",
    "    # 按cluster将词分好\n",
    "    disp_list = [] # 存放分好的词\n",
    "    a = 0\n",
    "    for c in clu:\n",
    "        temp = []\n",
    "        for l in range(0,len(c)):\n",
    "            if a>len(x_color):\n",
    "                break\n",
    "            t = l+a\n",
    "            temp.append(x_list[t])\n",
    "        a += len(c)\n",
    "        disp_list.append(temp)\n",
    "    n_clusters = len(disp_list)   \n",
    "    # 按cluster将词的index分好\n",
    "    for strin in range(0,len(x_index)):\n",
    "        x_index[strin] = int(x_index[strin])\n",
    "    \n",
    "    disp_values = []        \n",
    "    a = 0\n",
    "    for c in disp:\n",
    "        temp = []\n",
    "        for l in range(0,len(c)):\n",
    "            if a>len(x_color):\n",
    "                break\n",
    "            t = l+a\n",
    "            temp.append(all_mat[x_index[t]])\n",
    "        a += len(c)\n",
    "        disp_values.append(temp)\n",
    "        \n",
    "    #计算每个簇的中心点\n",
    "    centroids = []\n",
    "    for j in range(0,len(disp_values)):\n",
    "        numm = 0\n",
    "        for i in disp_values[j]:\n",
    "            numm += i\n",
    "        centroids.append(numm)\n",
    "        \n",
    "    # DBI值\n",
    "    index_db_val = compute_DB_index(all_mat, centroids, n_clusters)\n",
    "    dbi_list.append(index_db_val)\n",
    "    cluster_list.append(n_clusters)\n",
    "    \n",
    "print (dbi_list)\n",
    "print (cluster_list)"
   ]
  },
  {
   "cell_type": "code",
   "execution_count": 36,
   "metadata": {},
   "outputs": [
    {
     "ename": "ValueError",
     "evalue": "x and y must have same first dimension, but have shapes (14,) and (8,)",
     "output_type": "error",
     "traceback": [
      "\u001b[1;31m---------------------------------------------------------------------------\u001b[0m",
      "\u001b[1;31mValueError\u001b[0m                                Traceback (most recent call last)",
      "\u001b[1;32m<ipython-input-36-9b86f3557591>\u001b[0m in \u001b[0;36m<module>\u001b[1;34m()\u001b[0m\n\u001b[0;32m      7\u001b[0m \u001b[1;31m# dbi_list = [1622.4592050715905, 1502.149736283232, 1469.7160379962177, 1370.619858904026, 1246.7293342334567, 684.668871309834, 802.5160147681532, 1144.8552821387746, 1081.5971861525102]\u001b[0m\u001b[1;33m\u001b[0m\u001b[1;33m\u001b[0m\u001b[0m\n\u001b[0;32m      8\u001b[0m \u001b[1;33m\u001b[0m\u001b[0m\n\u001b[1;32m----> 9\u001b[1;33m \u001b[0mplt\u001b[0m\u001b[1;33m.\u001b[0m\u001b[0mplot\u001b[0m\u001b[1;33m(\u001b[0m\u001b[0mdistances\u001b[0m\u001b[1;33m,\u001b[0m \u001b[0mdbi_list\u001b[0m\u001b[1;33m,\u001b[0m \u001b[0mmarker\u001b[0m\u001b[1;33m=\u001b[0m\u001b[1;34m'o'\u001b[0m\u001b[1;33m,\u001b[0m \u001b[0mmec\u001b[0m\u001b[1;33m=\u001b[0m\u001b[1;34m'r'\u001b[0m\u001b[1;33m,\u001b[0m \u001b[0mmfc\u001b[0m\u001b[1;33m=\u001b[0m\u001b[1;34m'w'\u001b[0m\u001b[1;33m,\u001b[0m\u001b[0mlabel\u001b[0m\u001b[1;33m=\u001b[0m\u001b[1;34mu'Davies-BouldinIndex曲线图'\u001b[0m\u001b[1;33m)\u001b[0m\u001b[1;33m\u001b[0m\u001b[0m\n\u001b[0m\u001b[0;32m     10\u001b[0m \u001b[0mplt\u001b[0m\u001b[1;33m.\u001b[0m\u001b[0mlegend\u001b[0m\u001b[1;33m(\u001b[0m\u001b[1;33m)\u001b[0m  \u001b[1;31m# 让图例生效\u001b[0m\u001b[1;33m\u001b[0m\u001b[0m\n\u001b[0;32m     11\u001b[0m \u001b[1;31m# plt.xticks(distance, names, rotation=45)\u001b[0m\u001b[1;33m\u001b[0m\u001b[1;33m\u001b[0m\u001b[0m\n",
      "\u001b[1;32mD:\\python\\lib\\site-packages\\matplotlib\\pyplot.py\u001b[0m in \u001b[0;36mplot\u001b[1;34m(*args, **kwargs)\u001b[0m\n\u001b[0;32m   3356\u001b[0m                       mplDeprecation)\n\u001b[0;32m   3357\u001b[0m     \u001b[1;32mtry\u001b[0m\u001b[1;33m:\u001b[0m\u001b[1;33m\u001b[0m\u001b[0m\n\u001b[1;32m-> 3358\u001b[1;33m         \u001b[0mret\u001b[0m \u001b[1;33m=\u001b[0m \u001b[0max\u001b[0m\u001b[1;33m.\u001b[0m\u001b[0mplot\u001b[0m\u001b[1;33m(\u001b[0m\u001b[1;33m*\u001b[0m\u001b[0margs\u001b[0m\u001b[1;33m,\u001b[0m \u001b[1;33m**\u001b[0m\u001b[0mkwargs\u001b[0m\u001b[1;33m)\u001b[0m\u001b[1;33m\u001b[0m\u001b[0m\n\u001b[0m\u001b[0;32m   3359\u001b[0m     \u001b[1;32mfinally\u001b[0m\u001b[1;33m:\u001b[0m\u001b[1;33m\u001b[0m\u001b[0m\n\u001b[0;32m   3360\u001b[0m         \u001b[0max\u001b[0m\u001b[1;33m.\u001b[0m\u001b[0m_hold\u001b[0m \u001b[1;33m=\u001b[0m \u001b[0mwashold\u001b[0m\u001b[1;33m\u001b[0m\u001b[0m\n",
      "\u001b[1;32mD:\\python\\lib\\site-packages\\matplotlib\\__init__.py\u001b[0m in \u001b[0;36minner\u001b[1;34m(ax, *args, **kwargs)\u001b[0m\n\u001b[0;32m   1853\u001b[0m                         \u001b[1;34m\"the Matplotlib list!)\"\u001b[0m \u001b[1;33m%\u001b[0m \u001b[1;33m(\u001b[0m\u001b[0mlabel_namer\u001b[0m\u001b[1;33m,\u001b[0m \u001b[0mfunc\u001b[0m\u001b[1;33m.\u001b[0m\u001b[0m__name__\u001b[0m\u001b[1;33m)\u001b[0m\u001b[1;33m,\u001b[0m\u001b[1;33m\u001b[0m\u001b[0m\n\u001b[0;32m   1854\u001b[0m                         RuntimeWarning, stacklevel=2)\n\u001b[1;32m-> 1855\u001b[1;33m             \u001b[1;32mreturn\u001b[0m \u001b[0mfunc\u001b[0m\u001b[1;33m(\u001b[0m\u001b[0max\u001b[0m\u001b[1;33m,\u001b[0m \u001b[1;33m*\u001b[0m\u001b[0margs\u001b[0m\u001b[1;33m,\u001b[0m \u001b[1;33m**\u001b[0m\u001b[0mkwargs\u001b[0m\u001b[1;33m)\u001b[0m\u001b[1;33m\u001b[0m\u001b[0m\n\u001b[0m\u001b[0;32m   1856\u001b[0m \u001b[1;33m\u001b[0m\u001b[0m\n\u001b[0;32m   1857\u001b[0m         inner.__doc__ = _add_data_doc(inner.__doc__,\n",
      "\u001b[1;32mD:\\python\\lib\\site-packages\\matplotlib\\axes\\_axes.py\u001b[0m in \u001b[0;36mplot\u001b[1;34m(self, *args, **kwargs)\u001b[0m\n\u001b[0;32m   1525\u001b[0m         \u001b[0mkwargs\u001b[0m \u001b[1;33m=\u001b[0m \u001b[0mcbook\u001b[0m\u001b[1;33m.\u001b[0m\u001b[0mnormalize_kwargs\u001b[0m\u001b[1;33m(\u001b[0m\u001b[0mkwargs\u001b[0m\u001b[1;33m,\u001b[0m \u001b[0m_alias_map\u001b[0m\u001b[1;33m)\u001b[0m\u001b[1;33m\u001b[0m\u001b[0m\n\u001b[0;32m   1526\u001b[0m \u001b[1;33m\u001b[0m\u001b[0m\n\u001b[1;32m-> 1527\u001b[1;33m         \u001b[1;32mfor\u001b[0m \u001b[0mline\u001b[0m \u001b[1;32min\u001b[0m \u001b[0mself\u001b[0m\u001b[1;33m.\u001b[0m\u001b[0m_get_lines\u001b[0m\u001b[1;33m(\u001b[0m\u001b[1;33m*\u001b[0m\u001b[0margs\u001b[0m\u001b[1;33m,\u001b[0m \u001b[1;33m**\u001b[0m\u001b[0mkwargs\u001b[0m\u001b[1;33m)\u001b[0m\u001b[1;33m:\u001b[0m\u001b[1;33m\u001b[0m\u001b[0m\n\u001b[0m\u001b[0;32m   1528\u001b[0m             \u001b[0mself\u001b[0m\u001b[1;33m.\u001b[0m\u001b[0madd_line\u001b[0m\u001b[1;33m(\u001b[0m\u001b[0mline\u001b[0m\u001b[1;33m)\u001b[0m\u001b[1;33m\u001b[0m\u001b[0m\n\u001b[0;32m   1529\u001b[0m             \u001b[0mlines\u001b[0m\u001b[1;33m.\u001b[0m\u001b[0mappend\u001b[0m\u001b[1;33m(\u001b[0m\u001b[0mline\u001b[0m\u001b[1;33m)\u001b[0m\u001b[1;33m\u001b[0m\u001b[0m\n",
      "\u001b[1;32mD:\\python\\lib\\site-packages\\matplotlib\\axes\\_base.py\u001b[0m in \u001b[0;36m_grab_next_args\u001b[1;34m(self, *args, **kwargs)\u001b[0m\n\u001b[0;32m    404\u001b[0m                 \u001b[0mthis\u001b[0m \u001b[1;33m+=\u001b[0m \u001b[0margs\u001b[0m\u001b[1;33m[\u001b[0m\u001b[1;36m0\u001b[0m\u001b[1;33m]\u001b[0m\u001b[1;33m,\u001b[0m\u001b[1;33m\u001b[0m\u001b[0m\n\u001b[0;32m    405\u001b[0m                 \u001b[0margs\u001b[0m \u001b[1;33m=\u001b[0m \u001b[0margs\u001b[0m\u001b[1;33m[\u001b[0m\u001b[1;36m1\u001b[0m\u001b[1;33m:\u001b[0m\u001b[1;33m]\u001b[0m\u001b[1;33m\u001b[0m\u001b[0m\n\u001b[1;32m--> 406\u001b[1;33m             \u001b[1;32mfor\u001b[0m \u001b[0mseg\u001b[0m \u001b[1;32min\u001b[0m \u001b[0mself\u001b[0m\u001b[1;33m.\u001b[0m\u001b[0m_plot_args\u001b[0m\u001b[1;33m(\u001b[0m\u001b[0mthis\u001b[0m\u001b[1;33m,\u001b[0m \u001b[0mkwargs\u001b[0m\u001b[1;33m)\u001b[0m\u001b[1;33m:\u001b[0m\u001b[1;33m\u001b[0m\u001b[0m\n\u001b[0m\u001b[0;32m    407\u001b[0m                 \u001b[1;32myield\u001b[0m \u001b[0mseg\u001b[0m\u001b[1;33m\u001b[0m\u001b[0m\n\u001b[0;32m    408\u001b[0m \u001b[1;33m\u001b[0m\u001b[0m\n",
      "\u001b[1;32mD:\\python\\lib\\site-packages\\matplotlib\\axes\\_base.py\u001b[0m in \u001b[0;36m_plot_args\u001b[1;34m(self, tup, kwargs)\u001b[0m\n\u001b[0;32m    381\u001b[0m             \u001b[0mx\u001b[0m\u001b[1;33m,\u001b[0m \u001b[0my\u001b[0m \u001b[1;33m=\u001b[0m \u001b[0mindex_of\u001b[0m\u001b[1;33m(\u001b[0m\u001b[0mtup\u001b[0m\u001b[1;33m[\u001b[0m\u001b[1;33m-\u001b[0m\u001b[1;36m1\u001b[0m\u001b[1;33m]\u001b[0m\u001b[1;33m)\u001b[0m\u001b[1;33m\u001b[0m\u001b[0m\n\u001b[0;32m    382\u001b[0m \u001b[1;33m\u001b[0m\u001b[0m\n\u001b[1;32m--> 383\u001b[1;33m         \u001b[0mx\u001b[0m\u001b[1;33m,\u001b[0m \u001b[0my\u001b[0m \u001b[1;33m=\u001b[0m \u001b[0mself\u001b[0m\u001b[1;33m.\u001b[0m\u001b[0m_xy_from_xy\u001b[0m\u001b[1;33m(\u001b[0m\u001b[0mx\u001b[0m\u001b[1;33m,\u001b[0m \u001b[0my\u001b[0m\u001b[1;33m)\u001b[0m\u001b[1;33m\u001b[0m\u001b[0m\n\u001b[0m\u001b[0;32m    384\u001b[0m \u001b[1;33m\u001b[0m\u001b[0m\n\u001b[0;32m    385\u001b[0m         \u001b[1;32mif\u001b[0m \u001b[0mself\u001b[0m\u001b[1;33m.\u001b[0m\u001b[0mcommand\u001b[0m \u001b[1;33m==\u001b[0m \u001b[1;34m'plot'\u001b[0m\u001b[1;33m:\u001b[0m\u001b[1;33m\u001b[0m\u001b[0m\n",
      "\u001b[1;32mD:\\python\\lib\\site-packages\\matplotlib\\axes\\_base.py\u001b[0m in \u001b[0;36m_xy_from_xy\u001b[1;34m(self, x, y)\u001b[0m\n\u001b[0;32m    240\u001b[0m         \u001b[1;32mif\u001b[0m \u001b[0mx\u001b[0m\u001b[1;33m.\u001b[0m\u001b[0mshape\u001b[0m\u001b[1;33m[\u001b[0m\u001b[1;36m0\u001b[0m\u001b[1;33m]\u001b[0m \u001b[1;33m!=\u001b[0m \u001b[0my\u001b[0m\u001b[1;33m.\u001b[0m\u001b[0mshape\u001b[0m\u001b[1;33m[\u001b[0m\u001b[1;36m0\u001b[0m\u001b[1;33m]\u001b[0m\u001b[1;33m:\u001b[0m\u001b[1;33m\u001b[0m\u001b[0m\n\u001b[0;32m    241\u001b[0m             raise ValueError(\"x and y must have same first dimension, but \"\n\u001b[1;32m--> 242\u001b[1;33m                              \"have shapes {} and {}\".format(x.shape, y.shape))\n\u001b[0m\u001b[0;32m    243\u001b[0m         \u001b[1;32mif\u001b[0m \u001b[0mx\u001b[0m\u001b[1;33m.\u001b[0m\u001b[0mndim\u001b[0m \u001b[1;33m>\u001b[0m \u001b[1;36m2\u001b[0m \u001b[1;32mor\u001b[0m \u001b[0my\u001b[0m\u001b[1;33m.\u001b[0m\u001b[0mndim\u001b[0m \u001b[1;33m>\u001b[0m \u001b[1;36m2\u001b[0m\u001b[1;33m:\u001b[0m\u001b[1;33m\u001b[0m\u001b[0m\n\u001b[0;32m    244\u001b[0m             raise ValueError(\"x and y can be no greater than 2-D, but have \"\n",
      "\u001b[1;31mValueError\u001b[0m: x and y must have same first dimension, but have shapes (14,) and (8,)"
     ]
    },
    {
     "data": {
      "image/png": "[encoded data removed]",
      "text/plain": [
       "<Figure size 432x288 with 1 Axes>"
      ]
     },
     "metadata": {},
     "output_type": "display_data"
    }
   ],
   "source": [
    "import matplotlib.pyplot as plt\n",
    "from pylab import *                                 #支持中文\n",
    "mpl.rcParams['font.sans-serif'] = ['SimHei']\n",
    "\n",
    "# distances = [8,9,10,11,12,13,14,15,16]\n",
    "\n",
    "# dbi_list = [1622.4592050715905, 1502.149736283232, 1469.7160379962177, 1370.619858904026, 1246.7293342334567, 684.668871309834, 802.5160147681532, 1144.8552821387746, 1081.5971861525102]\n",
    "\n",
    "plt.plot(distances, dbi_list, marker='o', mec='r', mfc='w',label=u'Davies-BouldinIndex曲线图')\n",
    "plt.legend()  # 让图例生效\n",
    "# plt.xticks(distance, names, rotation=45)\n",
    "# plt.margins(0)\n",
    "plt.subplots_adjust(bottom=0.15)\n",
    "plt.xlabel(u\"distance\") #X轴标签\n",
    "plt.ylabel(\"Davies Bouldin Index指数值\") #Y轴标签\n",
    "plt.title(\"Davies Bouldin Index指数\") #标题\n",
    "plt.savefig(r'./导出的图片/DBI.pdf',dpi=300,bbox_inches = 'tight')\n",
    "plt.savefig(r'./导出的图片/DBI.png',dpi=300,bbox_inches = 'tight')\n",
    "\n",
    "plt.show()"
   ]
  },
  {
   "cell_type": "code",
   "execution_count": null,
   "metadata": {},
   "outputs": [],
   "source": []
  },
  {
   "cell_type": "code",
   "execution_count": 162,
   "metadata": {},
   "outputs": [
    {
     "data": {
      "image/png": "[encoded data removed]",
      "text/plain": [
       "<Figure size 432x288 with 1 Axes>"
      ]
     },
     "metadata": {},
     "output_type": "display_data"
    }
   ],
   "source": [
    "figure1 = (fancy_dendrogram(\n",
    "    Z,\n",
    "    labels = all_key,\n",
    "    truncate_mode='lastp',\n",
    "    p=20,\n",
    "    leaf_rotation=90.,\n",
    "    leaf_font_size=1.2,\n",
    "    show_contracted=True,\n",
    "    annotate_above=10,\n",
    "    max_d= 1,  # plot a horizontal cut-off line\n",
    "))\n",
    "# print (figure1)\n",
    "values_figure = []\n",
    "for fig in figure1.values():\n",
    "    values_figure.append(fig)\n",
    "\n",
    "x_list = values_figure[2]\n",
    "x_index = values_figure[3]\n",
    "x_color = values_figure[4]\n",
    "x_color.insert(0,x_color[0])"
   ]
  },
  {
   "cell_type": "code",
   "execution_count": null,
   "metadata": {},
   "outputs": [],
   "source": [
    "#DI指数\n",
    "import numpy as np\n",
    "\n",
    "def normalize_to_smallest_integers(labels):\n",
    "    \"\"\"Normalizes a list of integers so that each number is reduced to the minimum possible integer, maintaining the order of elements.\n",
    "    :param labels: the list to be normalized\n",
    "    :returns: a numpy.array with the values normalized as the minimum integers between 0 and the maximum possible value.\n",
    "    \"\"\"\n",
    "\n",
    "    max_v = len(set(labels)) if -1 not in labels else len(set(labels)) - 1\n",
    "    sorted_labels = np.sort(np.unique(labels))\n",
    "    unique_labels = range(max_v)\n",
    "    new_c = np.zeros(len(labels), dtype=np.int32)\n",
    "\n",
    "    for i, clust in enumerate(sorted_labels):\n",
    "        new_c[labels == clust] = unique_labels[i]\n",
    "\n",
    "    return new_c\n",
    "\n",
    "\n",
    "def dunn(labels, distances):\n",
    "    \"\"\"\n",
    "    Dunn index for cluster validation (the bigger, the better)\n",
    "    \n",
    "    .. math:: D = \\\\min_{i = 1 \\\\ldots n_c; j = i + 1\\ldots n_c} \\\\left\\\\lbrace \\\\frac{d \\\\left( c_i,c_j \\\\right)}{\\\\max_{k = 1 \\\\ldots n_c} \\\\left(diam \\\\left(c_k \\\\right) \\\\right)} \\\\right\\\\rbrace\n",
    "    \n",
    "    where :math:`d(c_i,c_j)` represents the distance between\n",
    "    clusters :math:`c_i` and :math:`c_j`, given by the distances between its\n",
    "    two closest data points, and :math:`diam(c_k)` is the diameter of cluster\n",
    "    :math:`c_k`, given by the distance between its two farthest data points.\n",
    "    \n",
    "    The bigger the value of the resulting Dunn index, the better the clustering\n",
    "    result is considered, since higher values indicate that clusters are\n",
    "    compact (small :math:`diam(c_k)`) and far apart.\n",
    "    :param labels: a list containing cluster labels for each of the n elements\n",
    "    :param distances: an n x n numpy.array containing the pairwise distances between elements\n",
    "    \n",
    "    .. [Kovacs2005] Kovács, F., Legány, C., & Babos, A. (2005). Cluster validity measurement techniques. 6th International Symposium of Hungarian Researchers on Computational Intelligence.\n",
    "    \"\"\"\n",
    "\n",
    "    labels = normalize_to_smallest_integers(labels)\n",
    "\n",
    "    unique_cluster_distances = np.unique(min_cluster_distances(labels, distances))\n",
    "    max_diameter = max(diameter(labels, distances))\n",
    "\n",
    "    if np.size(unique_cluster_distances) > 1:\n",
    "        return unique_cluster_distances[1] / max_diameter\n",
    "    else:\n",
    "        return unique_cluster_distances[0] / max_diameter\n",
    "\n",
    "\n",
    "def min_cluster_distances(labels, distances):\n",
    "    \"\"\"Calculates the distances between the two nearest points of each cluster.\n",
    "    :param labels: a list containing cluster labels for each of the n elements\n",
    "    :param distances: an n x n numpy.array containing the pairwise distances between elements\n",
    "    \"\"\"\n",
    "    labels = normalize_to_smallest_integers(labels)\n",
    "    n_unique_labels = len(np.unique(labels))\n",
    "\n",
    "    min_distances = np.zeros((n_unique_labels, n_unique_labels))\n",
    "    for i in np.arange(0, len(labels) - 1):\n",
    "        for ii in np.arange(i + 1, len(labels)):\n",
    "            if labels[i] != labels[ii] and distances[i, ii] > min_distances[labels[i], labels[ii]]:\n",
    "                min_distances[labels[i], labels[ii]] = min_distances[labels[ii], labels[i]] = distances[i, ii]\n",
    "    return min_distances\n",
    "\n",
    "\n",
    "def diameter(labels, distances):\n",
    "    \"\"\"Calculates cluster diameters (the distance between the two farthest data points in a cluster)\n",
    "    :param labels: a list containing cluster labels for each of the n elements\n",
    "    :param distances: an n x n numpy.array containing the pairwise distances between elements\n",
    "    :returns:\n",
    "    \"\"\"\n",
    "    labels = normalize_to_smallest_integers(labels)\n",
    "    n_clusters = len(np.unique(labels))\n",
    "    diameters = np.zeros(n_clusters)\n",
    "\n",
    "    for i in np.arange(0, len(labels) - 1):\n",
    "        for ii in np.arange(i + 1, len(labels)):\n",
    "            if labels[i] == labels[ii] and distances[i, ii] > diameters[labels[i]]:\n",
    "                diameters[labels[i]] = distances[i, ii]\n",
    "    return diameters"
   ]
  },
  {
   "cell_type": "code",
   "execution_count": null,
   "metadata": {},
   "outputs": [],
   "source": [
    "di_list = []\n",
    "cluster_list = []\n",
    "distances = [6,7,8,9,10,11,12,13,14,15,16,17,18,19]\n",
    "for distance_d in distances:\n",
    "    figure1 = (fancy_dendrogram(\n",
    "        Z,\n",
    "        labels = all_key,\n",
    "        truncate_mode='lastp',\n",
    "        p=2000,\n",
    "        leaf_rotation=90.,\n",
    "        leaf_font_size=2.2,\n",
    "        show_contracted=True,\n",
    "        annotate_above=10,\n",
    "        max_d= distance_d,  # plot a horizontal cut-off line\n",
    "    ))\n",
    "    # print (figure1)\n",
    "    values_figure = []\n",
    "    for fig in figure1.values():\n",
    "        values_figure.append(fig)\n",
    "\n",
    "    x_list = values_figure[2]\n",
    "    x_index = values_figure[3]\n",
    "    x_color = values_figure[4]\n",
    "    x_color.insert(0,x_color[0])\n",
    "    \n",
    "    # 将不同cluster元素放一起（color_list）\n",
    "    clu = [(list(v)) for k,v in groupby(x_color)]\n",
    "    disp = []\n",
    "    a = 0\n",
    "    for strin in range(0,len(x_index)):\n",
    "        x_index[strin] = str(x_index[strin])   \n",
    "    for c in clu:\n",
    "        temp = []\n",
    "        for l in range(0,len(c)):\n",
    "            if a>len(x_color):\n",
    "                break\n",
    "            t = l+a\n",
    "            temp.append(x_index[t])\n",
    "        a += len(c)\n",
    "        disp.append(temp)\n",
    "        \n",
    "    # 按cluster将词分好\n",
    "    disp_list = [] # 存放分好的词\n",
    "    a = 0\n",
    "    for c in clu:\n",
    "        temp = []\n",
    "        for l in range(0,len(c)):\n",
    "            if a>len(x_color):\n",
    "                break\n",
    "            t = l+a\n",
    "            temp.append(x_list[t])\n",
    "        a += len(c)\n",
    "        disp_list.append(temp)\n",
    "    n_clusters = len(disp_list)\n",
    "    k_list = []\n",
    "    for inte in disp_list:\n",
    "        for inte2 in inte:\n",
    "            k_list.append(inte2)     \n",
    "    \n",
    "    k_value = []\n",
    "    for c in range(0,len(all_key)):\n",
    "        for d in k_list:\n",
    "            if all_key[c] == d:\n",
    "                k_value.append(all_mat[c]) \n",
    "        \n",
    "    # 按cluster将词的index分好\n",
    "    for strin in range(0,len(x_index)):\n",
    "        x_index[strin] = int(x_index[strin])\n",
    "    disp_values = []        \n",
    "    a = 0\n",
    "    for c in disp:\n",
    "        temp = []\n",
    "        for l in range(0,len(c)):\n",
    "            if a>len(x_color):\n",
    "                break\n",
    "            t = l+a\n",
    "            temp.append(all_mat[x_index[t]])\n",
    "        a += len(c)\n",
    "        disp_values.append(temp) \n",
    "        \n",
    "    clu_list = [(list(v)) for k,v in groupby(x_color)]\n",
    "    res_clusters = []\n",
    "    for cl in range(0,len(clu_list)):\n",
    "        temp_cl = []\n",
    "        for i in range(0,len(clu_list[cl])):\n",
    "            temp_cl.append(cl)\n",
    "        res_clusters.append(temp_cl)\n",
    "    k_res = []\n",
    "    for j in res_clusters:\n",
    "        for x in j:\n",
    "            k_res.append(x)\n",
    "\n",
    "    dunk = dunn(k_res, euclidean_distances(k_value))\n",
    "    di_list.append(dunk)\n",
    "    cluster_list.append(n_clusters)\n",
    "    \n",
    "print (di_list)\n",
    "print (cluster_list)"
   ]
  },
  {
   "cell_type": "code",
   "execution_count": null,
   "metadata": {},
   "outputs": [],
   "source": [
    "import matplotlib.pyplot as plt\n",
    "from pylab import *                                 #支持中文\n",
    "mpl.rcParams['font.sans-serif'] = ['SimHei']\n",
    "\n",
    "\n",
    "# di_list = [0.4866599472044431, 0.5064838085954556, 0.5064838085954556, 0.6363254524054349, 0.6169771987226317, 0.5814802263186812, 0.7313846968589413, 0.7405891274563829, 0.6373614458794155, 0.6214510530001571, 0.6636865398027285, 0.6636865398027285, 0.6636865398027285, 0.7848477496143985]\n",
    "\n",
    "# di_list=[0.5064838085954556, 0.6363254524054349, 0.6169771987226317, 0.5814802263186812, 0.7313846968589413, 0.7205891274563829, 0.6373614458794155, 0.6214510530001571, 0.6636865398027285]\n",
    "# # cluster_list=[72, 50, 36, 32, 23, 20, 15, 13, 10, 8, 8]\n",
    "# distances = [8,9,10,11,12,13,14,15,16]\n",
    "\n",
    "plt.plot(distances, di_list, marker='o', mec='r', mfc='w',label=u'Dunn Validity Index曲线图')\n",
    "plt.legend()  # 让图例生效\n",
    "plt.subplots_adjust(bottom=0.15)\n",
    "plt.xlabel(u\"distance\") #X轴标签\n",
    "plt.ylabel(\"Dunn Validity Index指数值\") #Y轴标签\n",
    "plt.title(\"Dunn Validity Index指数\") #标题\n",
    "plt.savefig(r'./导出的图片/DVI.pdf',dpi=300,bbox_inches = 'tight')\n",
    "plt.savefig(r'./导出的图片/DVI.png',dpi=300,bbox_inches = 'tight')\n",
    "plt.show()"
   ]
  },
  {
   "cell_type": "code",
   "execution_count": null,
   "metadata": {},
   "outputs": [],
   "source": []
  },
  {
   "cell_type": "code",
   "execution_count": null,
   "metadata": {},
   "outputs": [],
   "source": []
  },
  {
   "cell_type": "code",
   "execution_count": null,
   "metadata": {},
   "outputs": [],
   "source": []
  },
  {
   "cell_type": "code",
   "execution_count": null,
   "metadata": {},
   "outputs": [],
   "source": []
  },
  {
   "cell_type": "code",
   "execution_count": null,
   "metadata": {},
   "outputs": [],
   "source": []
  },
  {
   "cell_type": "code",
   "execution_count": null,
   "metadata": {},
   "outputs": [],
   "source": []
  },
  {
   "cell_type": "code",
   "execution_count": null,
   "metadata": {},
   "outputs": [],
   "source": []
  },
  {
   "cell_type": "code",
   "execution_count": null,
   "metadata": {},
   "outputs": [],
   "source": []
  },
  {
   "cell_type": "code",
   "execution_count": null,
   "metadata": {},
   "outputs": [],
   "source": []
  },
  {
   "cell_type": "code",
   "execution_count": null,
   "metadata": {},
   "outputs": [],
   "source": []
  },
  {
   "cell_type": "code",
   "execution_count": null,
   "metadata": {},
   "outputs": [],
   "source": []
  }
 ],
 "metadata": {
  "kernelspec": {
   "display_name": "Python 3",
   "language": "python",
   "name": "python3"
  },
  "language_info": {
   "codemirror_mode": {
    "name": "ipython",
    "version": 3
   },
   "file_extension": ".py",
   "mimetype": "text/x-python",
   "name": "python",
   "nbconvert_exporter": "python",
   "pygments_lexer": "ipython3",
   "version": "3.6.5"
  }
 },
 "nbformat": 4,
 "nbformat_minor": 2
}
